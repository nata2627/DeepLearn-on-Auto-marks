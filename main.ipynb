{
  "cells": [
    {
      "cell_type": "markdown",
      "source": [
        "# Оптимизация гиперпараметров"
      ],
      "metadata": {
        "id": "i-GVFOMLEycm"
      }
    },
    {
      "cell_type": "markdown",
      "source": [
        "# Переобучение. Слой Dropout"
      ],
      "metadata": {
        "id": "-xNuzUsBEi22"
      }
    },
    {
      "cell_type": "code",
      "execution_count": null,
      "metadata": {
        "id": "0xLEKyMPRj7W"
      },
      "outputs": [],
      "source": [
        "import time\n",
        "import numpy as np\n",
        "from torchvision import datasets\n",
        "from torchvision import transforms\n",
        "from torchvision.transforms import ToTensor\n",
        "import torch\n",
        "import torch.nn as nn\n",
        "import torch.nn.functional as F\n",
        "import torchvision\n",
        "from torchvision.transforms import v2\n",
        "from torch.utils.data import Dataset, DataLoader\n",
        "from torchvision.datasets import ImageFolder\n",
        "import matplotlib.pyplot as plt\n",
        "\n",
        "%matplotlib inline\n",
        "\n"
      ]
    },
    {
      "cell_type": "markdown",
      "source": [
        "# torch.cuda\n",
        "Используется для настройки и запуска операций CUDA, отслеживает текущий выбранный графический процессор, и все выделяемые тензоры CUDA по умолчанию будут созданы на этом устройстве.\n",
        "Для изменения выбранного устройства используется метод torch.cuda.device контекстного менеджера.\n",
        "Описание в документации https://pytorch.org/docs/stable/notes/cuda.html\n"
      ],
      "metadata": {
        "id": "t16xgocRp98Y"
      }
    },
    {
      "cell_type": "code",
      "source": [
        "# Использование GPU по желанию\n",
        "\n",
        "if torch.cuda.is_available():\n",
        "  device = torch.device('cuda')\n",
        "  print('Работа на GPU')\n",
        "else:\n",
        "  device = torch.device('cpu')\n",
        "  print('Работа на CPU')\n",
        "\n",
        "# Не забывайте про .to(device)"
      ],
      "metadata": {
        "id": "9WhXM2OVsZxw"
      },
      "execution_count": null,
      "outputs": []
    },
    {
      "cell_type": "markdown",
      "metadata": {
        "id": "405tOyHxRj7W"
      },
      "source": [
        "## Загрузка датасета\n",
        "\n",
        " В данной работе будет использоваться учебный датасет MNIST\n",
        " Создание обучающей и тестовой выборок"
      ]
    },
    {
      "cell_type": "code",
      "source": [
        "train_set = datasets.MNIST(\n",
        "    root=\"data\",\n",
        "    train=True,\n",
        "    download=True,\n",
        "    transform=ToTensor()\n",
        ")\n",
        "\n",
        "test_set = datasets.MNIST(\n",
        "    root=\"data\",\n",
        "    train=False,\n",
        "    download=True,\n",
        "    transform=ToTensor()\n",
        ")"
      ],
      "metadata": {
        "id": "XFAiTZ85sZD-",
        "colab": {
          "base_uri": "https://localhost:8080/"
        },
        "outputId": "852b5417-0715-4076-f04c-64f3d8c2bdf8"
      },
      "execution_count": null,
      "outputs": [
        {
          "output_type": "stream",
          "name": "stdout",
          "text": [
            "Downloading http://yann.lecun.com/exdb/mnist/train-images-idx3-ubyte.gz\n",
            "Downloading http://yann.lecun.com/exdb/mnist/train-images-idx3-ubyte.gz to data/MNIST/raw/train-images-idx3-ubyte.gz\n"
          ]
        },
        {
          "output_type": "stream",
          "name": "stderr",
          "text": [
            "100%|██████████| 9912422/9912422 [00:00<00:00, 110151258.32it/s]\n"
          ]
        },
        {
          "output_type": "stream",
          "name": "stdout",
          "text": [
            "Extracting data/MNIST/raw/train-images-idx3-ubyte.gz to data/MNIST/raw\n",
            "\n",
            "Downloading http://yann.lecun.com/exdb/mnist/train-labels-idx1-ubyte.gz\n",
            "Downloading http://yann.lecun.com/exdb/mnist/train-labels-idx1-ubyte.gz to data/MNIST/raw/train-labels-idx1-ubyte.gz\n"
          ]
        },
        {
          "output_type": "stream",
          "name": "stderr",
          "text": [
            "100%|██████████| 28881/28881 [00:00<00:00, 99864545.61it/s]\n"
          ]
        },
        {
          "output_type": "stream",
          "name": "stdout",
          "text": [
            "Extracting data/MNIST/raw/train-labels-idx1-ubyte.gz to data/MNIST/raw\n",
            "\n",
            "Downloading http://yann.lecun.com/exdb/mnist/t10k-images-idx3-ubyte.gz\n",
            "Downloading http://yann.lecun.com/exdb/mnist/t10k-images-idx3-ubyte.gz to data/MNIST/raw/t10k-images-idx3-ubyte.gz\n"
          ]
        },
        {
          "output_type": "stream",
          "name": "stderr",
          "text": [
            "100%|██████████| 1648877/1648877 [00:00<00:00, 30141957.94it/s]\n"
          ]
        },
        {
          "output_type": "stream",
          "name": "stdout",
          "text": [
            "Extracting data/MNIST/raw/t10k-images-idx3-ubyte.gz to data/MNIST/raw\n",
            "\n",
            "Downloading http://yann.lecun.com/exdb/mnist/t10k-labels-idx1-ubyte.gz\n",
            "Downloading http://yann.lecun.com/exdb/mnist/t10k-labels-idx1-ubyte.gz to data/MNIST/raw/t10k-labels-idx1-ubyte.gz\n"
          ]
        },
        {
          "output_type": "stream",
          "name": "stderr",
          "text": [
            "100%|██████████| 4542/4542 [00:00<00:00, 4232510.28it/s]\n"
          ]
        },
        {
          "output_type": "stream",
          "name": "stdout",
          "text": [
            "Extracting data/MNIST/raw/t10k-labels-idx1-ubyte.gz to data/MNIST/raw\n",
            "\n"
          ]
        }
      ]
    },
    {
      "cell_type": "code",
      "source": [
        "# Создание DataLoader\n",
        "batch_size = 64\n",
        "\n",
        "train_loader = DataLoader(dataset=train_set, batch_size=batch_size, shuffle=True)\n",
        "test_loader = DataLoader(dataset=test_set, batch_size=batch_size, shuffle=False)\n",
        "# Проверка размерности данных\n",
        "data_iter = iter(train_loader)\n",
        "images, labels = next(data_iter)\n",
        "\n",
        "print(f\"Image batch: {images.size()}\")\n",
        "print(f\"Image label: {labels.size()}\")"
      ],
      "metadata": {
        "colab": {
          "base_uri": "https://localhost:8080/"
        },
        "id": "H83HkdBa0fzn",
        "outputId": "5df71564-91e0-42d8-b147-67ff3bfa060d"
      },
      "execution_count": null,
      "outputs": [
        {
          "output_type": "stream",
          "name": "stdout",
          "text": [
            "Размерность изображений: torch.Size([64, 1, 28, 28])\n",
            "Размерность меток: torch.Size([64])\n"
          ]
        }
      ]
    },
    {
      "cell_type": "code",
      "execution_count": null,
      "metadata": {
        "colab": {
          "base_uri": "https://localhost:8080/"
        },
        "id": "vwjNJSn-Rj7W",
        "outputId": "8f8da328-fcc4-4994-97d9-6443f5ebf856"
      },
      "outputs": [
        {
          "output_type": "stream",
          "name": "stdout",
          "text": [
            "Image batch: torch.Size([64, 1, 28, 28])\n",
            "Image label: torch.Size([64])\n"
          ]
        }
      ],
      "source": [
        "# Подключение cuda\n",
        "#device = torch.device(\"cuda:0\" if torch.cuda.is_available() else \"cpu\")\n",
        "\n",
        "# гиперпараметры\n",
        "random_seed = 1\n",
        "learning_rate = 0.1\n",
        "num_epochs = 5\n",
        "batch_size = 64\n",
        "\n",
        "num_inputs = 784\n",
        "n_1 = 128\n",
        "n_2 = 256\n",
        "num_classes = 10\n",
        "\n",
        "train_loader = DataLoader(dataset=train_set, batch_size=batch_size, shuffle=True)\n",
        "test_loader = DataLoader(dataset=test_set, batch_size=batch_size, shuffle=False)\n",
        "# Проверка размерности данных\n",
        "data_iter = iter(train_loader)\n",
        "images, labels = next(data_iter)\n",
        "\n",
        "print(f\"Image batch: {images.size()}\")\n",
        "print(f\"Image label: {labels.size()}\")"
      ]
    },
    {
      "cell_type": "markdown",
      "source": [
        "# Архитектура MLP\n",
        "В данном примере посторим архитектуру MLP.\n",
        "при построении модели будем указывать использу.to(device).\n",
        "На последнем слоя для подсчета ошибки применим функцию ошибки кросс-энтропия F.softmax(outputs, dim=1)\n",
        "Входные параметры - количество классов и размерность выходного тензора (количество батчей, выходные значения outputs)\n",
        "Параметр dim=1 описывает измерение, по которому будет вычисляться Softmax (поэтому каждый срез вдоль dim будет в сумме равен 1)..\n",
        "Описание в документации https://pytorch.org/docs/stable/generated/torch.nn.Softmax.html\n",
        "\n",
        "При обучении сети будем выводить ошибки по минибатчам, а точность по э\n",
        "похам, чтобы посмотреть как проходит процесс обуения."
      ],
      "metadata": {
        "id": "1DOwCGy7YdGL"
      }
    },
    {
      "cell_type": "code",
      "source": [
        "\n",
        "class MLP (torch.nn.Module):\n",
        "\n",
        "    def __init__(self, num_inputs, num_classes):\n",
        "        super(MLP, self).__init__()\n",
        "\n",
        "        ### 1st hidden layer\n",
        "        self.linear_1 = torch.nn.Linear(num_inputs, n_1)\n",
        "        self.linear_2 = torch.nn.Linear(n_1, n_2)\n",
        "\n",
        "        self.linear_out = torch.nn.Linear(n_2, num_classes)\n",
        "\n",
        "    def forward(self, x):\n",
        "        out = self.linear_1(x)\n",
        "        out = F.relu(out)\n",
        "        out = self.linear_2(out)\n",
        "        out = F.relu(out)\n",
        "\n",
        "        outputs = self.linear_out(out)\n",
        "        probas = F.softmax(outputs, dim=1)\n",
        "        return outputs, probas\n",
        "\n",
        "\n",
        "torch.manual_seed(random_seed)\n",
        "model = MLP (num_inputs = num_inputs,\n",
        "                             num_classes=num_classes)\n",
        "\n",
        "model = model.to(device)\n",
        "\n",
        "optimizer = torch.optim.SGD(model.parameters(), lr=learning_rate)\n",
        "\n"
      ],
      "metadata": {
        "id": "CaTB9rvoF53f"
      },
      "execution_count": null,
      "outputs": []
    },
    {
      "cell_type": "markdown",
      "source": [
        "## Обучение сети\n",
        "Выведем статистику Loss по минибатчам? accuracy - по эпохам."
      ],
      "metadata": {
        "id": "FA5T3Pp-5MoA"
      }
    },
    {
      "cell_type": "code",
      "source": [
        "def compute_accuracy(net, data_loader):\n",
        "    model.eval()\n",
        "    correct_pred = 0\n",
        "    num_examples = 0\n",
        "    with torch.no_grad():\n",
        "        for images, labels in data_loader:\n",
        "            images = images.view(-1, 28*28).to(device)\n",
        "            labels = labels.to(device)\n",
        "            outputs, probas = net(images)\n",
        "            _, predicted = torch.max(probas, 1)\n",
        "            num_examples += labels.size(0)\n",
        "            correct_pred += (predicted == labels).sum()\n",
        "\n",
        "        return correct_pred.float()/num_examples * 100\n",
        "\n",
        "\n",
        "for epoch in range(num_epochs):\n",
        "    model.train()\n",
        "    for i, (images, labels) in enumerate(train_loader):\n",
        "\n",
        "        images = images.view(-1, 28*28).to(device)\n",
        "        labels = labels.to(device)\n",
        "\n",
        "        outputs, probas = model(images)\n",
        "        Loss = F.cross_entropy( outputs, labels)\n",
        "        optimizer.zero_grad()\n",
        "        Loss.backward()\n",
        "        optimizer.step()\n",
        "\n",
        "        ###\n",
        "        if not i % 50:\n",
        "            print ('Epoch: %03d/%03d | Batch %03d/%03d | Loss: %.4f'\n",
        "                   %(epoch+1, num_epochs, i,\n",
        "                     len(train_loader), Loss))\n",
        "\n",
        "    print('Epoch: %03d/%03d training accuracy: %.2f%%' % (\n",
        "          epoch+1, num_epochs,\n",
        "          compute_accuracy(model, train_loader)))\n",
        "    acc= compute_accuracy(model, train_loader)"
      ],
      "metadata": {
        "colab": {
          "base_uri": "https://localhost:8080/"
        },
        "id": "gCWAXPjwHSHA",
        "outputId": "d0df5da1-9693-4837-db39-3213387cf268"
      },
      "execution_count": null,
      "outputs": [
        {
          "output_type": "stream",
          "name": "stdout",
          "text": [
            "Epoch: 001/005 | Batch 000/938 | Loss: 2.3005\n",
            "Epoch: 001/005 | Batch 050/938 | Loss: 1.7801\n",
            "Epoch: 001/005 | Batch 100/938 | Loss: 0.7709\n",
            "Epoch: 001/005 | Batch 150/938 | Loss: 0.5032\n",
            "Epoch: 001/005 | Batch 200/938 | Loss: 0.5423\n",
            "Epoch: 001/005 | Batch 250/938 | Loss: 0.2938\n",
            "Epoch: 001/005 | Batch 300/938 | Loss: 0.3381\n",
            "Epoch: 001/005 | Batch 350/938 | Loss: 0.4303\n",
            "Epoch: 001/005 | Batch 400/938 | Loss: 0.1892\n",
            "Epoch: 001/005 | Batch 450/938 | Loss: 0.2340\n",
            "Epoch: 001/005 | Batch 500/938 | Loss: 0.2363\n",
            "Epoch: 001/005 | Batch 550/938 | Loss: 0.2610\n",
            "Epoch: 001/005 | Batch 600/938 | Loss: 0.3034\n",
            "Epoch: 001/005 | Batch 650/938 | Loss: 0.3577\n",
            "Epoch: 001/005 | Batch 700/938 | Loss: 0.4070\n",
            "Epoch: 001/005 | Batch 750/938 | Loss: 0.2700\n",
            "Epoch: 001/005 | Batch 800/938 | Loss: 0.2787\n",
            "Epoch: 001/005 | Batch 850/938 | Loss: 0.1096\n",
            "Epoch: 001/005 | Batch 900/938 | Loss: 0.3110\n",
            "Epoch: 001/005 training accuracy: 92.80%\n",
            "Epoch: 002/005 | Batch 000/938 | Loss: 0.1740\n",
            "Epoch: 002/005 | Batch 050/938 | Loss: 0.2037\n",
            "Epoch: 002/005 | Batch 100/938 | Loss: 0.1646\n",
            "Epoch: 002/005 | Batch 150/938 | Loss: 0.1511\n",
            "Epoch: 002/005 | Batch 200/938 | Loss: 0.1912\n",
            "Epoch: 002/005 | Batch 250/938 | Loss: 0.3302\n",
            "Epoch: 002/005 | Batch 300/938 | Loss: 0.0790\n",
            "Epoch: 002/005 | Batch 350/938 | Loss: 0.1818\n",
            "Epoch: 002/005 | Batch 400/938 | Loss: 0.3001\n",
            "Epoch: 002/005 | Batch 450/938 | Loss: 0.2557\n",
            "Epoch: 002/005 | Batch 500/938 | Loss: 0.0551\n",
            "Epoch: 002/005 | Batch 550/938 | Loss: 0.2008\n",
            "Epoch: 002/005 | Batch 600/938 | Loss: 0.1499\n",
            "Epoch: 002/005 | Batch 650/938 | Loss: 0.1411\n",
            "Epoch: 002/005 | Batch 700/938 | Loss: 0.3155\n",
            "Epoch: 002/005 | Batch 750/938 | Loss: 0.2231\n",
            "Epoch: 002/005 | Batch 800/938 | Loss: 0.1576\n",
            "Epoch: 002/005 | Batch 850/938 | Loss: 0.2694\n",
            "Epoch: 002/005 | Batch 900/938 | Loss: 0.2965\n",
            "Epoch: 002/005 training accuracy: 95.72%\n",
            "Epoch: 003/005 | Batch 000/938 | Loss: 0.1260\n",
            "Epoch: 003/005 | Batch 050/938 | Loss: 0.0715\n",
            "Epoch: 003/005 | Batch 100/938 | Loss: 0.1021\n",
            "Epoch: 003/005 | Batch 150/938 | Loss: 0.3190\n",
            "Epoch: 003/005 | Batch 200/938 | Loss: 0.1784\n",
            "Epoch: 003/005 | Batch 250/938 | Loss: 0.0457\n",
            "Epoch: 003/005 | Batch 300/938 | Loss: 0.1414\n",
            "Epoch: 003/005 | Batch 350/938 | Loss: 0.1127\n",
            "Epoch: 003/005 | Batch 400/938 | Loss: 0.2170\n",
            "Epoch: 003/005 | Batch 450/938 | Loss: 0.0695\n",
            "Epoch: 003/005 | Batch 500/938 | Loss: 0.1135\n",
            "Epoch: 003/005 | Batch 550/938 | Loss: 0.2761\n",
            "Epoch: 003/005 | Batch 600/938 | Loss: 0.0681\n",
            "Epoch: 003/005 | Batch 650/938 | Loss: 0.0549\n",
            "Epoch: 003/005 | Batch 700/938 | Loss: 0.0542\n",
            "Epoch: 003/005 | Batch 750/938 | Loss: 0.0953\n",
            "Epoch: 003/005 | Batch 800/938 | Loss: 0.0691\n",
            "Epoch: 003/005 | Batch 850/938 | Loss: 0.1571\n",
            "Epoch: 003/005 | Batch 900/938 | Loss: 0.0259\n",
            "Epoch: 003/005 training accuracy: 96.64%\n",
            "Epoch: 004/005 | Batch 000/938 | Loss: 0.0972\n",
            "Epoch: 004/005 | Batch 050/938 | Loss: 0.1860\n",
            "Epoch: 004/005 | Batch 100/938 | Loss: 0.0171\n",
            "Epoch: 004/005 | Batch 150/938 | Loss: 0.0973\n",
            "Epoch: 004/005 | Batch 200/938 | Loss: 0.0356\n",
            "Epoch: 004/005 | Batch 250/938 | Loss: 0.1278\n",
            "Epoch: 004/005 | Batch 300/938 | Loss: 0.0864\n",
            "Epoch: 004/005 | Batch 350/938 | Loss: 0.1032\n",
            "Epoch: 004/005 | Batch 400/938 | Loss: 0.2041\n",
            "Epoch: 004/005 | Batch 450/938 | Loss: 0.0402\n",
            "Epoch: 004/005 | Batch 500/938 | Loss: 0.1439\n",
            "Epoch: 004/005 | Batch 550/938 | Loss: 0.0323\n",
            "Epoch: 004/005 | Batch 600/938 | Loss: 0.1058\n",
            "Epoch: 004/005 | Batch 650/938 | Loss: 0.1173\n",
            "Epoch: 004/005 | Batch 700/938 | Loss: 0.0424\n",
            "Epoch: 004/005 | Batch 750/938 | Loss: 0.0421\n",
            "Epoch: 004/005 | Batch 800/938 | Loss: 0.0344\n",
            "Epoch: 004/005 | Batch 850/938 | Loss: 0.1531\n",
            "Epoch: 004/005 | Batch 900/938 | Loss: 0.1772\n",
            "Epoch: 004/005 training accuracy: 96.55%\n",
            "Epoch: 005/005 | Batch 000/938 | Loss: 0.1161\n",
            "Epoch: 005/005 | Batch 050/938 | Loss: 0.0436\n",
            "Epoch: 005/005 | Batch 100/938 | Loss: 0.0897\n",
            "Epoch: 005/005 | Batch 150/938 | Loss: 0.0497\n",
            "Epoch: 005/005 | Batch 200/938 | Loss: 0.0196\n",
            "Epoch: 005/005 | Batch 250/938 | Loss: 0.0537\n",
            "Epoch: 005/005 | Batch 300/938 | Loss: 0.0929\n",
            "Epoch: 005/005 | Batch 350/938 | Loss: 0.1001\n",
            "Epoch: 005/005 | Batch 400/938 | Loss: 0.2340\n",
            "Epoch: 005/005 | Batch 450/938 | Loss: 0.1300\n",
            "Epoch: 005/005 | Batch 500/938 | Loss: 0.0316\n",
            "Epoch: 005/005 | Batch 550/938 | Loss: 0.1049\n",
            "Epoch: 005/005 | Batch 600/938 | Loss: 0.0466\n",
            "Epoch: 005/005 | Batch 650/938 | Loss: 0.0865\n",
            "Epoch: 005/005 | Batch 700/938 | Loss: 0.1431\n",
            "Epoch: 005/005 | Batch 750/938 | Loss: 0.0626\n",
            "Epoch: 005/005 | Batch 800/938 | Loss: 0.1489\n",
            "Epoch: 005/005 | Batch 850/938 | Loss: 0.0523\n",
            "Epoch: 005/005 | Batch 900/938 | Loss: 0.0289\n",
            "Epoch: 005/005 training accuracy: 98.22%\n"
          ]
        }
      ]
    },
    {
      "cell_type": "markdown",
      "source": [
        "# Dropout\n",
        " Построим архитектуру MLP c использованием слоя Dropout, чтобы избежать переобучения\n",
        "Слой Dropout во время обучения случайным образом обнуляет некоторые элементы входного тензора с вероятностью p.\n",
        "\n"
      ],
      "metadata": {
        "id": "44ptZe4z65IX"
      }
    },
    {
      "cell_type": "code",
      "source": [
        "dropout = 0.5\n",
        "class MLP (torch.nn.Module):\n",
        "\n",
        "    def __init__(self, num_inputs, num_classes):\n",
        "        super(MLP, self).__init__()\n",
        "\n",
        "        ### 1st hidden layer\n",
        "        self.linear_1 = torch.nn.Linear(num_inputs, n_1)\n",
        "        self.linear_2 = torch.nn.Linear(n_1, n_2)\n",
        "        self.linear_out = torch.nn.Linear(n_2, num_classes)\n",
        "\n",
        "    def forward(self, x):\n",
        "        out = self.linear_1(x)\n",
        "        out = F.relu(out)\n",
        "        out = F.dropout(out, p=dropout, training=self.training)\n",
        "\n",
        "        out = self.linear_2(out)\n",
        "        out = F.relu(out)\n",
        "        out = F.dropout(out, p=dropout, training=self.training)\n",
        "\n",
        "\n",
        "        outputs = self.linear_out(out)\n",
        "        probas = F.softmax(outputs, dim=1)\n",
        "        return outputs, probas\n",
        "\n",
        "\n",
        "torch.manual_seed(random_seed)\n",
        "model = MLP (num_inputs = num_inputs,\n",
        "                             num_classes=num_classes)\n",
        "\n",
        "model = model.to(device)\n",
        "\n",
        "optimizer = torch.optim.SGD(model.parameters(), lr=learning_rate)"
      ],
      "metadata": {
        "id": "XIDF1Gx24kSj"
      },
      "execution_count": null,
      "outputs": []
    },
    {
      "cell_type": "code",
      "source": [
        "# Обучите сеть и выведите статистику по минибатчам и по эпохам\n",
        "def compute_accuracy(net, data_loader):\n",
        "    model.eval()\n",
        "    correct_pred = 0\n",
        "    num_examples = 0\n",
        "    with torch.no_grad():\n",
        "        for images, labels in data_loader:\n",
        "            images = images.view(-1, 28*28).to(device)\n",
        "            labels = labels.to(device)\n",
        "            outputs, probas = net(images)\n",
        "            _, predicted = torch.max(probas, 1)\n",
        "            num_examples += labels.size(0)\n",
        "            correct_pred += (predicted == labels).sum()\n",
        "\n",
        "        return correct_pred.float()/num_examples * 100\n",
        "\n",
        "\n",
        "for epoch in range(num_epochs):\n",
        "    model.train()\n",
        "    for i, (images, labels) in enumerate(train_loader):\n",
        "\n",
        "        images = images.view(-1, 28*28).to(device)\n",
        "        labels = labels.to(device)\n",
        "\n",
        "        outputs, probas = model(images)\n",
        "        Loss = F.cross_entropy( outputs, labels)\n",
        "        optimizer.zero_grad()\n",
        "        Loss.backward()\n",
        "        optimizer.step()\n",
        "\n",
        "        ###\n",
        "        if not i % 50:\n",
        "            print ('Epoch: %03d/%03d | Batch %03d/%03d | Loss: %.4f'\n",
        "                   %(epoch+1, num_epochs, i,\n",
        "                     len(train_loader), Loss))\n",
        "\n",
        "    print('Epoch: %03d/%03d training accuracy: %.2f%%' % (\n",
        "          epoch+1, num_epochs,\n",
        "          compute_accuracy(model, train_loader)))\n",
        "    acc= compute_accuracy(model, train_loader)"
      ],
      "metadata": {
        "colab": {
          "base_uri": "https://localhost:8080/"
        },
        "id": "gUPB24Wl4zX8",
        "outputId": "d3875490-6241-4f39-a2f3-b90c34f246e5"
      },
      "execution_count": null,
      "outputs": [
        {
          "output_type": "stream",
          "name": "stdout",
          "text": [
            "Epoch: 001/005 | Batch 000/938 | Loss: 2.3060\n",
            "Epoch: 001/005 | Batch 050/938 | Loss: 2.0278\n",
            "Epoch: 001/005 | Batch 100/938 | Loss: 1.2166\n",
            "Epoch: 001/005 | Batch 150/938 | Loss: 0.8790\n",
            "Epoch: 001/005 | Batch 200/938 | Loss: 0.8236\n",
            "Epoch: 001/005 | Batch 250/938 | Loss: 0.5961\n",
            "Epoch: 001/005 | Batch 300/938 | Loss: 0.6909\n",
            "Epoch: 001/005 | Batch 350/938 | Loss: 0.7020\n",
            "Epoch: 001/005 | Batch 400/938 | Loss: 0.3380\n",
            "Epoch: 001/005 | Batch 450/938 | Loss: 0.4204\n",
            "Epoch: 001/005 | Batch 500/938 | Loss: 0.4332\n",
            "Epoch: 001/005 | Batch 550/938 | Loss: 0.3916\n",
            "Epoch: 001/005 | Batch 600/938 | Loss: 0.4069\n",
            "Epoch: 001/005 | Batch 650/938 | Loss: 0.4690\n",
            "Epoch: 001/005 | Batch 700/938 | Loss: 0.5143\n",
            "Epoch: 001/005 | Batch 750/938 | Loss: 0.3420\n",
            "Epoch: 001/005 | Batch 800/938 | Loss: 0.4742\n",
            "Epoch: 001/005 | Batch 850/938 | Loss: 0.3040\n",
            "Epoch: 001/005 | Batch 900/938 | Loss: 0.5170\n",
            "Epoch: 001/005 training accuracy: 93.08%\n",
            "Epoch: 002/005 | Batch 000/938 | Loss: 0.1989\n",
            "Epoch: 002/005 | Batch 050/938 | Loss: 0.4951\n",
            "Epoch: 002/005 | Batch 100/938 | Loss: 0.2806\n",
            "Epoch: 002/005 | Batch 150/938 | Loss: 0.2074\n",
            "Epoch: 002/005 | Batch 200/938 | Loss: 0.4390\n",
            "Epoch: 002/005 | Batch 250/938 | Loss: 0.3319\n",
            "Epoch: 002/005 | Batch 300/938 | Loss: 0.2793\n",
            "Epoch: 002/005 | Batch 350/938 | Loss: 0.2049\n",
            "Epoch: 002/005 | Batch 400/938 | Loss: 0.4199\n",
            "Epoch: 002/005 | Batch 450/938 | Loss: 0.4376\n",
            "Epoch: 002/005 | Batch 500/938 | Loss: 0.2924\n",
            "Epoch: 002/005 | Batch 550/938 | Loss: 0.4134\n",
            "Epoch: 002/005 | Batch 600/938 | Loss: 0.2461\n",
            "Epoch: 002/005 | Batch 650/938 | Loss: 0.3251\n",
            "Epoch: 002/005 | Batch 700/938 | Loss: 0.3485\n",
            "Epoch: 002/005 | Batch 750/938 | Loss: 0.3659\n",
            "Epoch: 002/005 | Batch 800/938 | Loss: 0.3668\n",
            "Epoch: 002/005 | Batch 850/938 | Loss: 0.1679\n",
            "Epoch: 002/005 | Batch 900/938 | Loss: 0.4242\n",
            "Epoch: 002/005 training accuracy: 94.76%\n",
            "Epoch: 003/005 | Batch 000/938 | Loss: 0.3796\n",
            "Epoch: 003/005 | Batch 050/938 | Loss: 0.1360\n",
            "Epoch: 003/005 | Batch 100/938 | Loss: 0.3324\n",
            "Epoch: 003/005 | Batch 150/938 | Loss: 0.1977\n",
            "Epoch: 003/005 | Batch 200/938 | Loss: 0.4385\n",
            "Epoch: 003/005 | Batch 250/938 | Loss: 0.2037\n",
            "Epoch: 003/005 | Batch 300/938 | Loss: 0.1343\n",
            "Epoch: 003/005 | Batch 350/938 | Loss: 0.0906\n",
            "Epoch: 003/005 | Batch 400/938 | Loss: 0.4747\n",
            "Epoch: 003/005 | Batch 450/938 | Loss: 0.3162\n",
            "Epoch: 003/005 | Batch 500/938 | Loss: 0.2720\n",
            "Epoch: 003/005 | Batch 550/938 | Loss: 0.4787\n",
            "Epoch: 003/005 | Batch 600/938 | Loss: 0.3945\n",
            "Epoch: 003/005 | Batch 650/938 | Loss: 0.4078\n",
            "Epoch: 003/005 | Batch 700/938 | Loss: 0.4047\n",
            "Epoch: 003/005 | Batch 750/938 | Loss: 0.1601\n",
            "Epoch: 003/005 | Batch 800/938 | Loss: 0.1801\n",
            "Epoch: 003/005 | Batch 850/938 | Loss: 0.1699\n",
            "Epoch: 003/005 | Batch 900/938 | Loss: 0.1790\n",
            "Epoch: 003/005 training accuracy: 95.79%\n",
            "Epoch: 004/005 | Batch 000/938 | Loss: 0.3666\n",
            "Epoch: 004/005 | Batch 050/938 | Loss: 0.2166\n",
            "Epoch: 004/005 | Batch 100/938 | Loss: 0.2074\n",
            "Epoch: 004/005 | Batch 150/938 | Loss: 0.2677\n",
            "Epoch: 004/005 | Batch 200/938 | Loss: 0.2486\n",
            "Epoch: 004/005 | Batch 250/938 | Loss: 0.4395\n",
            "Epoch: 004/005 | Batch 300/938 | Loss: 0.3495\n",
            "Epoch: 004/005 | Batch 350/938 | Loss: 0.1917\n",
            "Epoch: 004/005 | Batch 400/938 | Loss: 0.2182\n",
            "Epoch: 004/005 | Batch 450/938 | Loss: 0.1520\n",
            "Epoch: 004/005 | Batch 500/938 | Loss: 0.1938\n",
            "Epoch: 004/005 | Batch 550/938 | Loss: 0.3087\n",
            "Epoch: 004/005 | Batch 600/938 | Loss: 0.1854\n",
            "Epoch: 004/005 | Batch 650/938 | Loss: 0.1154\n",
            "Epoch: 004/005 | Batch 700/938 | Loss: 0.2697\n",
            "Epoch: 004/005 | Batch 750/938 | Loss: 0.1632\n",
            "Epoch: 004/005 | Batch 800/938 | Loss: 0.4142\n",
            "Epoch: 004/005 | Batch 850/938 | Loss: 0.3069\n",
            "Epoch: 004/005 | Batch 900/938 | Loss: 0.0894\n",
            "Epoch: 004/005 training accuracy: 96.45%\n",
            "Epoch: 005/005 | Batch 000/938 | Loss: 0.1834\n",
            "Epoch: 005/005 | Batch 050/938 | Loss: 0.2492\n",
            "Epoch: 005/005 | Batch 100/938 | Loss: 0.1483\n",
            "Epoch: 005/005 | Batch 150/938 | Loss: 0.4757\n",
            "Epoch: 005/005 | Batch 200/938 | Loss: 0.2494\n",
            "Epoch: 005/005 | Batch 250/938 | Loss: 0.5245\n",
            "Epoch: 005/005 | Batch 300/938 | Loss: 0.2494\n",
            "Epoch: 005/005 | Batch 350/938 | Loss: 0.1787\n",
            "Epoch: 005/005 | Batch 400/938 | Loss: 0.1935\n",
            "Epoch: 005/005 | Batch 450/938 | Loss: 0.2932\n",
            "Epoch: 005/005 | Batch 500/938 | Loss: 0.1422\n",
            "Epoch: 005/005 | Batch 550/938 | Loss: 0.2848\n",
            "Epoch: 005/005 | Batch 600/938 | Loss: 0.2135\n",
            "Epoch: 005/005 | Batch 650/938 | Loss: 0.1977\n",
            "Epoch: 005/005 | Batch 700/938 | Loss: 0.1402\n",
            "Epoch: 005/005 | Batch 750/938 | Loss: 0.1089\n",
            "Epoch: 005/005 | Batch 800/938 | Loss: 0.3000\n",
            "Epoch: 005/005 | Batch 850/938 | Loss: 0.2056\n",
            "Epoch: 005/005 | Batch 900/938 | Loss: 0.1235\n",
            "Epoch: 005/005 training accuracy: 96.85%\n"
          ]
        }
      ]
    },
    {
      "cell_type": "markdown",
      "metadata": {
        "id": "DBLiDUCIRj7W"
      },
      "source": [
        "# Нормализация"
      ]
    },
    {
      "cell_type": "markdown",
      "source": [
        "## Обучение глубоких нейронных сетей\n",
        "Обучение глубоких нейронных сетей осложняется тем, что распределение входов каждого слоя меняется в процессе обучения, поскольку меняются параметры предыдущих слоев. Это замедляет обучение, требуя б тщательной инициализации параметров.\n",
        "Это явление называеь=тся внутренним ковариационным сдвигом и решается  путем нормализации входов слоев.\n",
        "Основа метода заключается в том, что нормализация является частью архитектуры модели и выполняется для каждого минибатча\n",
        "Пакетная нормализация позволяет  использовать гораздо более высокие скорости обучения. Она также действует как регуляризатор, в некоторых случаях устраняя необходимость в Dropout.\n",
        "\n"
      ],
      "metadata": {
        "id": "zzKag-Rbv7lG"
      }
    },
    {
      "cell_type": "markdown",
      "source": [
        "## Создание архитектуры сети\n",
        "В данной работе будут использоваться слои нормализации для предотвращения внутреннего ковариационного сдвига в\n",
        "\n",
        "Слой нормализации - класс  torch.nn.BatchNorm1d(C) C — размерность каналов входных данных\n",
        "torch.nn.BatchNorm1d(num_features, eps=1e-05, momentum=0.1, affine=True, track_running_stats=True, device=None, dtype=None)\n",
        "\n",
        "Среднее значение и стандартное отклонение рассчитываются для каждого измерения мини-батчей: γ и β — это обучаемые векторы параметров размера C. По умолчанию элементы  γ установлены в 1, а элементы β установлены на 0.\n",
        "Также по умолчанию во время обучения этот слой продолжает выполнять оценки вычисленного среднего значения и дисперсии, которые затем используются для нормализации во время оценки. Текущие оценки сохраняются со значением momentum по умолчанию 0,1.\n",
        "Описание в документации https://pytorch.org/docs/stable/generated/torch.nn.BatchNorm1d.html\n",
        "\n",
        "Ниже представлена архитектура MLP с подключением слоя нормализации перед активационной функцией.\n"
      ],
      "metadata": {
        "id": "jzErvI2_wVFL"
      }
    },
    {
      "cell_type": "code",
      "execution_count": null,
      "metadata": {
        "id": "LqfC3yDbRj7X"
      },
      "outputs": [],
      "source": [
        "class MLP_1(torch.nn.Module):\n",
        "\n",
        "    def __init__(self, num_inputs, num_classes):\n",
        "        super(MLP_1, self).__init__()\n",
        "\n",
        "        ### 1 скрытый слой\n",
        "        self.linear_1 = torch.nn.Linear(num_inputs, n_1)\n",
        "        # Подключение слоя нормализации перед активационной функцией\n",
        "        # которая стандартно используется\n",
        "        self.linear_1_bn = torch.nn.BatchNorm1d(n_1)\n",
        "\n",
        "        ### 2 скрытый слойr\n",
        "        self.linear_2 = torch.nn.Linear(n_1, n_2)\n",
        "        self.linear_2_bn = torch.nn.BatchNorm1d(n_2)\n",
        "\n",
        "        ### выходной слой\n",
        "        self.linear_out = torch.nn.Linear(n_2, num_classes)\n",
        "\n",
        "\n",
        "    def forward(self, x):\n",
        "        out = self.linear_1(x)\n",
        "        # Как правило, перед активационной функцией используется нормализация\n",
        "        out = self.linear_1_bn(out)\n",
        "        out = F.relu(out)\n",
        "\n",
        "        out = self.linear_2(out)\n",
        "        out = self.linear_2_bn(out)\n",
        "        out = F.relu(out)\n",
        "\n",
        "        outputs = self.linear_out(out)\n",
        "        probas = F.softmax( outputs, dim=1)\n",
        "        return  outputs, probas\n",
        "\n",
        "\n",
        "torch.manual_seed(random_seed)\n",
        "model = MLP_1(num_inputs=num_inputs,\n",
        "                             num_classes=num_classes)\n",
        "\n",
        "model = model.to(device)\n",
        "\n",
        "optimizer = torch.optim.SGD(model.parameters(), lr=learning_rate)"
      ]
    },
    {
      "cell_type": "code",
      "source": [
        "# Обучите сеть и выведите статистику по минибатчам и по эпохам\n",
        "for epoch in range(num_epochs):\n",
        "    model.train()\n",
        "    for i, (images, labels) in enumerate(train_loader):\n",
        "\n",
        "        images = images.view(-1, 28*28).to(device)\n",
        "        labels = labels.to(device)\n",
        "\n",
        "        outputs, probas = model(images)\n",
        "        Loss = F.cross_entropy( outputs, labels)\n",
        "        optimizer.zero_grad()\n",
        "        Loss.backward()\n",
        "        optimizer.step()\n",
        "\n",
        "        ###\n",
        "        if not i % 50:\n",
        "            print ('Epoch: %03d/%03d | Batch %03d/%03d | Loss: %.4f'\n",
        "                   %(epoch+1, num_epochs, i,\n",
        "                     len(train_loader), Loss))\n",
        "\n",
        "    print('Epoch: %03d/%03d | Training accuracy: %.2f%%' % (\n",
        "          epoch+1, num_epochs,\n",
        "          compute_accuracy(model, train_loader)))\n",
        "    acc= compute_accuracy(model, train_loader)\n",
        "    # Вычисление и вывод точности на тестовой выборке\n",
        "    test_accuracy = compute_accuracy(model, test_loader)\n",
        "    print(f'Epoch: %03d/%03d | Test Accuracy: %.2f%%'\n",
        "          % (epoch + 1, num_epochs, test_accuracy))"
      ],
      "metadata": {
        "id": "A3Hi4lhonivE",
        "colab": {
          "base_uri": "https://localhost:8080/"
        },
        "outputId": "9814b5a5-53c6-441b-de52-8bc46d9c5724"
      },
      "execution_count": null,
      "outputs": [
        {
          "output_type": "stream",
          "name": "stdout",
          "text": [
            "Epoch: 001/005 | Batch 000/938 | Loss: 2.4142\n",
            "Epoch: 001/005 | Batch 050/938 | Loss: 0.4136\n",
            "Epoch: 001/005 | Batch 100/938 | Loss: 0.2931\n",
            "Epoch: 001/005 | Batch 150/938 | Loss: 0.3649\n",
            "Epoch: 001/005 | Batch 200/938 | Loss: 0.2916\n",
            "Epoch: 001/005 | Batch 250/938 | Loss: 0.1338\n",
            "Epoch: 001/005 | Batch 300/938 | Loss: 0.2016\n",
            "Epoch: 001/005 | Batch 350/938 | Loss: 0.2277\n",
            "Epoch: 001/005 | Batch 400/938 | Loss: 0.1045\n",
            "Epoch: 001/005 | Batch 450/938 | Loss: 0.1793\n",
            "Epoch: 001/005 | Batch 500/938 | Loss: 0.0530\n",
            "Epoch: 001/005 | Batch 550/938 | Loss: 0.0647\n",
            "Epoch: 001/005 | Batch 600/938 | Loss: 0.1330\n",
            "Epoch: 001/005 | Batch 650/938 | Loss: 0.1512\n",
            "Epoch: 001/005 | Batch 700/938 | Loss: 0.2373\n",
            "Epoch: 001/005 | Batch 750/938 | Loss: 0.0622\n",
            "Epoch: 001/005 | Batch 800/938 | Loss: 0.1291\n",
            "Epoch: 001/005 | Batch 850/938 | Loss: 0.0601\n",
            "Epoch: 001/005 | Batch 900/938 | Loss: 0.1294\n",
            "Epoch: 001/005 training accuracy: 97.01%\n",
            "Epoch: 001/005 | Test Accuracy: 96.20%\n",
            "Epoch: 002/005 | Batch 000/938 | Loss: 0.1139\n",
            "Epoch: 002/005 | Batch 050/938 | Loss: 0.1461\n",
            "Epoch: 002/005 | Batch 100/938 | Loss: 0.1015\n",
            "Epoch: 002/005 | Batch 150/938 | Loss: 0.0298\n",
            "Epoch: 002/005 | Batch 200/938 | Loss: 0.1414\n",
            "Epoch: 002/005 | Batch 250/938 | Loss: 0.0540\n",
            "Epoch: 002/005 | Batch 300/938 | Loss: 0.1588\n",
            "Epoch: 002/005 | Batch 350/938 | Loss: 0.0602\n",
            "Epoch: 002/005 | Batch 400/938 | Loss: 0.1767\n",
            "Epoch: 002/005 | Batch 450/938 | Loss: 0.0433\n",
            "Epoch: 002/005 | Batch 500/938 | Loss: 0.0098\n",
            "Epoch: 002/005 | Batch 550/938 | Loss: 0.0887\n",
            "Epoch: 002/005 | Batch 600/938 | Loss: 0.0988\n",
            "Epoch: 002/005 | Batch 650/938 | Loss: 0.0963\n",
            "Epoch: 002/005 | Batch 700/938 | Loss: 0.0651\n",
            "Epoch: 002/005 | Batch 750/938 | Loss: 0.0924\n",
            "Epoch: 002/005 | Batch 800/938 | Loss: 0.0764\n",
            "Epoch: 002/005 | Batch 850/938 | Loss: 0.0512\n",
            "Epoch: 002/005 | Batch 900/938 | Loss: 0.0321\n",
            "Epoch: 002/005 training accuracy: 98.56%\n",
            "Epoch: 002/005 | Test Accuracy: 97.41%\n",
            "Epoch: 003/005 | Batch 000/938 | Loss: 0.0409\n",
            "Epoch: 003/005 | Batch 050/938 | Loss: 0.0243\n",
            "Epoch: 003/005 | Batch 100/938 | Loss: 0.1000\n",
            "Epoch: 003/005 | Batch 150/938 | Loss: 0.0782\n",
            "Epoch: 003/005 | Batch 200/938 | Loss: 0.0530\n",
            "Epoch: 003/005 | Batch 250/938 | Loss: 0.0453\n",
            "Epoch: 003/005 | Batch 300/938 | Loss: 0.0166\n",
            "Epoch: 003/005 | Batch 350/938 | Loss: 0.0195\n",
            "Epoch: 003/005 | Batch 400/938 | Loss: 0.1978\n",
            "Epoch: 003/005 | Batch 450/938 | Loss: 0.0337\n",
            "Epoch: 003/005 | Batch 500/938 | Loss: 0.0925\n",
            "Epoch: 003/005 | Batch 550/938 | Loss: 0.0879\n",
            "Epoch: 003/005 | Batch 600/938 | Loss: 0.0833\n",
            "Epoch: 003/005 | Batch 650/938 | Loss: 0.0204\n",
            "Epoch: 003/005 | Batch 700/938 | Loss: 0.0854\n",
            "Epoch: 003/005 | Batch 750/938 | Loss: 0.0283\n",
            "Epoch: 003/005 | Batch 800/938 | Loss: 0.2957\n",
            "Epoch: 003/005 | Batch 850/938 | Loss: 0.0841\n",
            "Epoch: 003/005 | Batch 900/938 | Loss: 0.0299\n",
            "Epoch: 003/005 training accuracy: 98.93%\n",
            "Epoch: 003/005 | Test Accuracy: 97.72%\n",
            "Epoch: 004/005 | Batch 000/938 | Loss: 0.0188\n",
            "Epoch: 004/005 | Batch 050/938 | Loss: 0.1187\n",
            "Epoch: 004/005 | Batch 100/938 | Loss: 0.0093\n",
            "Epoch: 004/005 | Batch 150/938 | Loss: 0.1316\n",
            "Epoch: 004/005 | Batch 200/938 | Loss: 0.0109\n",
            "Epoch: 004/005 | Batch 250/938 | Loss: 0.0213\n",
            "Epoch: 004/005 | Batch 300/938 | Loss: 0.0282\n",
            "Epoch: 004/005 | Batch 350/938 | Loss: 0.0474\n",
            "Epoch: 004/005 | Batch 400/938 | Loss: 0.0583\n",
            "Epoch: 004/005 | Batch 450/938 | Loss: 0.0384\n",
            "Epoch: 004/005 | Batch 500/938 | Loss: 0.0132\n",
            "Epoch: 004/005 | Batch 550/938 | Loss: 0.0236\n",
            "Epoch: 004/005 | Batch 600/938 | Loss: 0.0295\n",
            "Epoch: 004/005 | Batch 650/938 | Loss: 0.0026\n",
            "Epoch: 004/005 | Batch 700/938 | Loss: 0.0989\n",
            "Epoch: 004/005 | Batch 750/938 | Loss: 0.1060\n",
            "Epoch: 004/005 | Batch 800/938 | Loss: 0.1336\n",
            "Epoch: 004/005 | Batch 850/938 | Loss: 0.0936\n",
            "Epoch: 004/005 | Batch 900/938 | Loss: 0.0226\n",
            "Epoch: 004/005 training accuracy: 99.03%\n",
            "Epoch: 004/005 | Test Accuracy: 97.87%\n",
            "Epoch: 005/005 | Batch 000/938 | Loss: 0.1092\n",
            "Epoch: 005/005 | Batch 050/938 | Loss: 0.0871\n",
            "Epoch: 005/005 | Batch 100/938 | Loss: 0.0450\n",
            "Epoch: 005/005 | Batch 150/938 | Loss: 0.0256\n",
            "Epoch: 005/005 | Batch 200/938 | Loss: 0.0051\n",
            "Epoch: 005/005 | Batch 250/938 | Loss: 0.0663\n",
            "Epoch: 005/005 | Batch 300/938 | Loss: 0.0251\n",
            "Epoch: 005/005 | Batch 350/938 | Loss: 0.0447\n",
            "Epoch: 005/005 | Batch 400/938 | Loss: 0.0134\n",
            "Epoch: 005/005 | Batch 450/938 | Loss: 0.0052\n",
            "Epoch: 005/005 | Batch 500/938 | Loss: 0.0211\n",
            "Epoch: 005/005 | Batch 550/938 | Loss: 0.0183\n",
            "Epoch: 005/005 | Batch 600/938 | Loss: 0.0855\n",
            "Epoch: 005/005 | Batch 650/938 | Loss: 0.0264\n",
            "Epoch: 005/005 | Batch 700/938 | Loss: 0.0556\n",
            "Epoch: 005/005 | Batch 750/938 | Loss: 0.0119\n",
            "Epoch: 005/005 | Batch 800/938 | Loss: 0.0428\n",
            "Epoch: 005/005 | Batch 850/938 | Loss: 0.0153\n",
            "Epoch: 005/005 | Batch 900/938 | Loss: 0.0429\n",
            "Epoch: 005/005 training accuracy: 99.08%\n",
            "Epoch: 005/005 | Test Accuracy: 97.69%\n"
          ]
        }
      ]
    },
    {
      "cell_type": "markdown",
      "source": [
        "## Создание архитектуры сети с подключением слоя нормализации после активационной функции\n",
        "\n",
        "Создайте архитектуру MLP с подключением слоя нормализации после активационной функцией.\n",
        "Обучите сеть\n",
        "выведите результаты."
      ],
      "metadata": {
        "id": "XpgTA3KrDWJl"
      }
    },
    {
      "cell_type": "code",
      "source": [
        "class MLP_2(torch.nn.Module):\n",
        "\n",
        "    def __init__(self, num_inputs, num_classes):\n",
        "        super(MLP_2, self).__init__()\n",
        "\n",
        "        ### 1 скрытый слой\n",
        "        self.linear_1 = torch.nn.Linear(num_inputs, n_1)\n",
        "        self.relu_1 = torch.nn.ReLU()\n",
        "        self.batch_norm_1 = torch.nn.BatchNorm1d(n_1)\n",
        "\n",
        "        # 2-ой скрытый слой\n",
        "        self.linear_2 = torch.nn.Linear(n_1, n_2)\n",
        "        self.relu_2 = torch.nn.ReLU()\n",
        "        self.batch_norm_2 = torch.nn.BatchNorm1d(n_2)\n",
        "\n",
        "        # Выходной слой\n",
        "        self.linear_out = torch.nn.Linear(n_2, num_classes)\n",
        "\n",
        "    def forward(self, x):\n",
        "        out = self.linear_1(x)\n",
        "        out = self.relu_1(out)\n",
        "        out = self.batch_norm_1(out)\n",
        "\n",
        "        out = self.linear_2(out)\n",
        "        out = self.relu_2(out)\n",
        "        out = self.batch_norm_2(out)\n",
        "\n",
        "        outputs = self.linear_out(out)\n",
        "        probas = F.softmax(outputs, dim=1)\n",
        "        return outputs, probas\n",
        "\n",
        "\n",
        "torch.manual_seed(random_seed)\n",
        "model = MLP_2(num_inputs=num_inputs,\n",
        "                             num_classes=num_classes)\n",
        "\n",
        "model = model.to(device)\n",
        "\n",
        "optimizer = torch.optim.SGD(model.parameters(), lr=learning_rate)"
      ],
      "metadata": {
        "id": "6M17dA8iD6me"
      },
      "execution_count": null,
      "outputs": []
    },
    {
      "cell_type": "code",
      "source": [
        "# Обучение модели и вывод результатов\n",
        "for epoch in range(num_epochs):\n",
        "    model.train()\n",
        "    for i, (images, labels) in enumerate(train_loader):\n",
        "        images = images.view(-1, 28*28).to(device)\n",
        "        labels = labels.to(device)\n",
        "\n",
        "        outputs, probas = model(images)\n",
        "        loss = F.cross_entropy(outputs, labels)\n",
        "        optimizer.zero_grad()\n",
        "        loss.backward()\n",
        "        optimizer.step()\n",
        "\n",
        "        if not i % 50:\n",
        "            print('Epoch: %03d/%03d | Batch %03d/%03d | Loss: %.4f'\n",
        "                  % (epoch + 1, num_epochs, i, len(train_loader), loss))\n",
        "\n",
        "    # Вычисление и вывод точности на обучающей выборке\n",
        "    train_accuracy = compute_accuracy(model, train_loader)\n",
        "    print(f'Epoch: %03d/%03d | Training Accuracy: %.2f%%'\n",
        "          % (epoch + 1, num_epochs, train_accuracy))\n",
        "\n",
        "    # Вычисление и вывод точности на тестовой выборке\n",
        "    test_accuracy = compute_accuracy(model, test_loader)\n",
        "    print(f'Epoch: %03d/%03d | Test Accuracy: %.2f%%'\n",
        "          % (epoch + 1, num_epochs, test_accuracy))\n"
      ],
      "metadata": {
        "id": "CW-i_uCiEBQe",
        "colab": {
          "base_uri": "https://localhost:8080/"
        },
        "outputId": "ed6fbf8f-f42e-4c13-c6ce-b0bbb59a9960"
      },
      "execution_count": null,
      "outputs": [
        {
          "output_type": "stream",
          "name": "stdout",
          "text": [
            "Epoch: 001/005 | Batch 000/938 | Loss: 2.5882\n",
            "Epoch: 001/005 | Batch 050/938 | Loss: 0.3588\n",
            "Epoch: 001/005 | Batch 100/938 | Loss: 0.2302\n",
            "Epoch: 001/005 | Batch 150/938 | Loss: 0.2628\n",
            "Epoch: 001/005 | Batch 200/938 | Loss: 0.2955\n",
            "Epoch: 001/005 | Batch 250/938 | Loss: 0.1530\n",
            "Epoch: 001/005 | Batch 300/938 | Loss: 0.1720\n",
            "Epoch: 001/005 | Batch 350/938 | Loss: 0.2712\n",
            "Epoch: 001/005 | Batch 400/938 | Loss: 0.1038\n",
            "Epoch: 001/005 | Batch 450/938 | Loss: 0.0794\n",
            "Epoch: 001/005 | Batch 500/938 | Loss: 0.0624\n",
            "Epoch: 001/005 | Batch 550/938 | Loss: 0.0403\n",
            "Epoch: 001/005 | Batch 600/938 | Loss: 0.1453\n",
            "Epoch: 001/005 | Batch 650/938 | Loss: 0.1978\n",
            "Epoch: 001/005 | Batch 700/938 | Loss: 0.3050\n",
            "Epoch: 001/005 | Batch 750/938 | Loss: 0.0476\n",
            "Epoch: 001/005 | Batch 800/938 | Loss: 0.1080\n",
            "Epoch: 001/005 | Batch 850/938 | Loss: 0.0450\n",
            "Epoch: 001/005 | Batch 900/938 | Loss: 0.1353\n",
            "Epoch: 001/005 | Training Accuracy: 97.19%\n",
            "Epoch: 001/005 | Test Accuracy: 96.40%\n",
            "Epoch: 002/005 | Batch 000/938 | Loss: 0.0698\n",
            "Epoch: 002/005 | Batch 050/938 | Loss: 0.0260\n",
            "Epoch: 002/005 | Batch 100/938 | Loss: 0.1136\n",
            "Epoch: 002/005 | Batch 150/938 | Loss: 0.1229\n",
            "Epoch: 002/005 | Batch 200/938 | Loss: 0.1521\n",
            "Epoch: 002/005 | Batch 250/938 | Loss: 0.1796\n",
            "Epoch: 002/005 | Batch 300/938 | Loss: 0.0915\n",
            "Epoch: 002/005 | Batch 350/938 | Loss: 0.0871\n",
            "Epoch: 002/005 | Batch 400/938 | Loss: 0.1029\n",
            "Epoch: 002/005 | Batch 450/938 | Loss: 0.1756\n",
            "Epoch: 002/005 | Batch 500/938 | Loss: 0.1011\n",
            "Epoch: 002/005 | Batch 550/938 | Loss: 0.0428\n",
            "Epoch: 002/005 | Batch 600/938 | Loss: 0.1077\n",
            "Epoch: 002/005 | Batch 650/938 | Loss: 0.0799\n",
            "Epoch: 002/005 | Batch 700/938 | Loss: 0.1137\n",
            "Epoch: 002/005 | Batch 750/938 | Loss: 0.0670\n",
            "Epoch: 002/005 | Batch 800/938 | Loss: 0.1314\n",
            "Epoch: 002/005 | Batch 850/938 | Loss: 0.1589\n",
            "Epoch: 002/005 | Batch 900/938 | Loss: 0.1444\n",
            "Epoch: 002/005 | Training Accuracy: 97.67%\n",
            "Epoch: 002/005 | Test Accuracy: 96.95%\n",
            "Epoch: 003/005 | Batch 000/938 | Loss: 0.0260\n",
            "Epoch: 003/005 | Batch 050/938 | Loss: 0.0558\n",
            "Epoch: 003/005 | Batch 100/938 | Loss: 0.0233\n",
            "Epoch: 003/005 | Batch 150/938 | Loss: 0.0476\n",
            "Epoch: 003/005 | Batch 200/938 | Loss: 0.0195\n",
            "Epoch: 003/005 | Batch 250/938 | Loss: 0.1860\n",
            "Epoch: 003/005 | Batch 300/938 | Loss: 0.0572\n",
            "Epoch: 003/005 | Batch 350/938 | Loss: 0.0363\n",
            "Epoch: 003/005 | Batch 400/938 | Loss: 0.0820\n",
            "Epoch: 003/005 | Batch 450/938 | Loss: 0.0568\n",
            "Epoch: 003/005 | Batch 500/938 | Loss: 0.0710\n",
            "Epoch: 003/005 | Batch 550/938 | Loss: 0.1275\n",
            "Epoch: 003/005 | Batch 600/938 | Loss: 0.0852\n",
            "Epoch: 003/005 | Batch 650/938 | Loss: 0.1129\n",
            "Epoch: 003/005 | Batch 700/938 | Loss: 0.0230\n",
            "Epoch: 003/005 | Batch 750/938 | Loss: 0.0922\n",
            "Epoch: 003/005 | Batch 800/938 | Loss: 0.2514\n",
            "Epoch: 003/005 | Batch 850/938 | Loss: 0.0549\n",
            "Epoch: 003/005 | Batch 900/938 | Loss: 0.0191\n",
            "Epoch: 003/005 | Training Accuracy: 98.87%\n",
            "Epoch: 003/005 | Test Accuracy: 97.66%\n",
            "Epoch: 004/005 | Batch 000/938 | Loss: 0.0505\n",
            "Epoch: 004/005 | Batch 050/938 | Loss: 0.0110\n",
            "Epoch: 004/005 | Batch 100/938 | Loss: 0.0499\n",
            "Epoch: 004/005 | Batch 150/938 | Loss: 0.0130\n",
            "Epoch: 004/005 | Batch 200/938 | Loss: 0.0317\n",
            "Epoch: 004/005 | Batch 250/938 | Loss: 0.0318\n",
            "Epoch: 004/005 | Batch 300/938 | Loss: 0.1241\n",
            "Epoch: 004/005 | Batch 350/938 | Loss: 0.0628\n",
            "Epoch: 004/005 | Batch 400/938 | Loss: 0.0225\n",
            "Epoch: 004/005 | Batch 450/938 | Loss: 0.0332\n",
            "Epoch: 004/005 | Batch 500/938 | Loss: 0.0335\n",
            "Epoch: 004/005 | Batch 550/938 | Loss: 0.0228\n",
            "Epoch: 004/005 | Batch 600/938 | Loss: 0.0784\n",
            "Epoch: 004/005 | Batch 650/938 | Loss: 0.0225\n",
            "Epoch: 004/005 | Batch 700/938 | Loss: 0.1110\n",
            "Epoch: 004/005 | Batch 750/938 | Loss: 0.1664\n",
            "Epoch: 004/005 | Batch 800/938 | Loss: 0.1292\n",
            "Epoch: 004/005 | Batch 850/938 | Loss: 0.1550\n",
            "Epoch: 004/005 | Batch 900/938 | Loss: 0.1535\n",
            "Epoch: 004/005 | Training Accuracy: 99.07%\n",
            "Epoch: 004/005 | Test Accuracy: 98.04%\n",
            "Epoch: 005/005 | Batch 000/938 | Loss: 0.0255\n",
            "Epoch: 005/005 | Batch 050/938 | Loss: 0.0779\n",
            "Epoch: 005/005 | Batch 100/938 | Loss: 0.0048\n",
            "Epoch: 005/005 | Batch 150/938 | Loss: 0.0660\n",
            "Epoch: 005/005 | Batch 200/938 | Loss: 0.0993\n",
            "Epoch: 005/005 | Batch 250/938 | Loss: 0.0634\n",
            "Epoch: 005/005 | Batch 300/938 | Loss: 0.0092\n",
            "Epoch: 005/005 | Batch 350/938 | Loss: 0.0501\n",
            "Epoch: 005/005 | Batch 400/938 | Loss: 0.0204\n",
            "Epoch: 005/005 | Batch 450/938 | Loss: 0.0598\n",
            "Epoch: 005/005 | Batch 500/938 | Loss: 0.0737\n",
            "Epoch: 005/005 | Batch 550/938 | Loss: 0.0190\n",
            "Epoch: 005/005 | Batch 600/938 | Loss: 0.0177\n",
            "Epoch: 005/005 | Batch 650/938 | Loss: 0.0311\n",
            "Epoch: 005/005 | Batch 700/938 | Loss: 0.0380\n",
            "Epoch: 005/005 | Batch 750/938 | Loss: 0.0187\n",
            "Epoch: 005/005 | Batch 800/938 | Loss: 0.0764\n",
            "Epoch: 005/005 | Batch 850/938 | Loss: 0.0075\n",
            "Epoch: 005/005 | Batch 900/938 | Loss: 0.0589\n",
            "Epoch: 005/005 | Training Accuracy: 99.17%\n",
            "Epoch: 005/005 | Test Accuracy: 97.95%\n"
          ]
        }
      ]
    },
    {
      "cell_type": "code",
      "source": [],
      "metadata": {
        "id": "w1yf2RWCEZTG"
      },
      "execution_count": null,
      "outputs": []
    },
    {
      "cell_type": "markdown",
      "source": [
        "#  Аугментация\n",
        "\n",
        "Один из методов борьбы с переобучением я вляется увеличение выборки с использованием угментации, можно воспользоваться базовым классом `ImageFolder`.\n",
        "при помощи параметра `transform` можно скомпоновать преобразования для изображений. (лабораторная работа №2)\n",
        "\n",
        "Для компоновки функции из модуля v2 используйте `Compose`.Параметры:\n",
        "* ToImage() - преобразование в `Image` (подкласс torch.Tensor)\n",
        "* RandomVerticalFlip() - случайное отзеркаливание\n",
        "* ToDtype(torch.float32, scale=True) - преобразование из int во float\n",
        "* Normalize() - нормализация изображений по полученным средним и стандартным отклонениям.\n",
        "\n",
        "По желанию:\n",
        "* RandomRotation() - поворот на случайный угол в указанном диапазоне\n",
        "* Можете попробовать и другие варианты преобразований. [Документация API V2](https://pytorch.org/vision/stable/transforms.html#v2-api-reference-recommended)\n",
        "\n",
        " При обучении используете весь набор обязательных преобразований, при проверке требуется только преобразовать изображение к тензору с плавающей точкой и провести нормализацию."
      ],
      "metadata": {
        "id": "57K-eoYK4bNL"
      }
    },
    {
      "cell_type": "markdown",
      "source": [
        "# Задание 1.\n",
        " Загрузить датасет bus для решения задачи классификации входящих и выхдящих пассажиров. Провести аугментацию датачсата с использованием , создать 3 архитектуры сети, провести обучение с использованием обучающей и валидационной выборок, проверить на тестовой выборке, вывесит лучшую архитектуру.\n",
        "\n",
        "## Порядок выполнения\n",
        "\n",
        "1. Загрузить датасет bus для решения задачи классификации;\n",
        "2. Подготовить transforms, DataSet и DataLoader;\n",
        "3. Создать 3 архитектуры сети c использованием слоя Batchnorm2d, за основу можно взять архитектуру LeNet. Документация Batchnorm2d https://pytorch.org/docs/stable/generated/torch.nn.BatchNorm2d.html\n",
        "4. Обучите сеть и выведите графики результатов на тренировочной и валидационной выборках.\n",
        "5. Оценить результаты лучшей модели на тестовой выборке.\n"
      ],
      "metadata": {
        "id": "_pZVcvC-AMOX"
      }
    },
    {
      "cell_type": "code",
      "source": [
        "from google.colab import drive\n",
        "drive.mount('/content/drive/')"
      ],
      "metadata": {
        "colab": {
          "base_uri": "https://localhost:8080/"
        },
        "id": "_6bSsaja4SX5",
        "outputId": "55636682-276b-49ed-c6f9-afe0f4fcff92"
      },
      "execution_count": null,
      "outputs": [
        {
          "output_type": "stream",
          "name": "stdout",
          "text": [
            "Mounted at /content/drive/\n"
          ]
        }
      ]
    },
    {
      "cell_type": "code",
      "source": [
        "import zipfile\n",
        "import os\n",
        "\n",
        "# Путь к вашему архиву zip\n",
        "zip_file_path = '/content/drive/MyDrive/Colab Notebooks/bus.zip'\n",
        "\n",
        "# Папка, куда будут распакованы файлы\n",
        "extract_folder = '/content/bus'\n",
        "\n",
        "# Распаковка архива\n",
        "with zipfile.ZipFile(zip_file_path, 'r') as zip_ref:\n",
        "    zip_ref.extractall(extract_folder)\n",
        "\n",
        "# Проверка содержимого папки\n",
        "print(os.listdir(extract_folder))\n"
      ],
      "metadata": {
        "colab": {
          "base_uri": "https://localhost:8080/"
        },
        "id": "tE1xCRlT_iBV",
        "outputId": "3bfff60c-5417-4c58-eebe-5bc565cbebb3"
      },
      "execution_count": null,
      "outputs": [
        {
          "output_type": "stream",
          "name": "stdout",
          "text": [
            "['Входящий', 'Выходящий']\n"
          ]
        }
      ]
    },
    {
      "cell_type": "code",
      "source": [
        "import torch\n",
        "import torch.nn as nn\n",
        "import torch.optim as optim\n",
        "from torch.utils.data import DataLoader\n",
        "from torchvision import datasets, transforms\n",
        "import matplotlib.pyplot as plt\n",
        "import numpy as np\n",
        "import torch.nn.functional as F\n",
        "from torch.utils.data.sampler import SubsetRandomSampler\n",
        "from torch.utils.data import random_split\n"
      ],
      "metadata": {
        "id": "9P9pZokxjDB7"
      },
      "execution_count": null,
      "outputs": []
    },
    {
      "cell_type": "code",
      "source": [
        "# Загрузка датасета\n",
        "transform = transforms.Compose([\n",
        "    transforms.RandomResizedCrop(32),\n",
        "    transforms.ToTensor(),\n",
        "    transforms.Normalize([0.5, 0.5, 0.5], [0.5, 0.5, 0.5])\n",
        "])\n",
        "\n",
        "dataset = datasets.ImageFolder(root='/content/bus', transform=transform)"
      ],
      "metadata": {
        "id": "ifWNAOogBE_y"
      },
      "execution_count": null,
      "outputs": []
    },
    {
      "cell_type": "code",
      "source": [
        "image_shape = dataset[0][0].shape  # Размерность изображений\n",
        "num_classes = len(dataset.classes)  # Количество классов\n",
        "classes_labels = dataset.classes  # Метки классов\n",
        "\n",
        "print(image_shape, num_classes, classes_labels)"
      ],
      "metadata": {
        "colab": {
          "base_uri": "https://localhost:8080/"
        },
        "id": "LTkaUSJ9CPkN",
        "outputId": "9f02692e-da0b-4fd5-f47e-30a5b887be74"
      },
      "execution_count": null,
      "outputs": [
        {
          "output_type": "stream",
          "name": "stdout",
          "text": [
            "torch.Size([3, 32, 32]) 2 ['Входящий', 'Выходящий']\n"
          ]
        }
      ]
    },
    {
      "cell_type": "code",
      "source": [
        "import numpy as np\n",
        "from torch.utils.data.sampler import SubsetRandomSampler\n",
        "\n",
        "val_size = 0.2\n",
        "test_size = 0.3\n",
        "train_samples = int((1 -test_size) * len(dataset))\n",
        "train_indices = list(range(train_samples))\n",
        "test_samples = len(dataset) - train_samples\n",
        "\n",
        "train_dataset, test_dataset = random_split(dataset, [train_samples, test_samples])\n",
        "\n",
        "split_value = int(np.floor(val_size * train_samples))\n",
        "np.random.shuffle(train_indices)\n",
        "\n",
        "train_idx, val_idx = train_indices[split_value:], train_indices[:split_value]\n",
        "\n",
        "train_sampler = SubsetRandomSampler(train_idx)\n",
        "val_sampler = SubsetRandomSampler(val_idx)"
      ],
      "metadata": {
        "id": "x_KZbQ-pBYV9"
      },
      "execution_count": null,
      "outputs": []
    },
    {
      "cell_type": "code",
      "source": [
        "from torch.utils.data import DataLoader\n",
        "BATCH_SIZE = 64\n",
        "train_loader = DataLoader(train_dataset, sampler=train_sampler, batch_size=BATCH_SIZE, shuffle=False)\n",
        "val_loader = DataLoader(train_dataset, sampler=val_sampler, batch_size=BATCH_SIZE, shuffle=False) # не\n",
        "test_loader = DataLoader(test_dataset, batch_size=BATCH_SIZE, shuffle=False)\n",
        "\n",
        "# Вывод информации о количестве батчей\n",
        "print(f\"Количество батчей в обучающем DataLoader: {len(train_loader)}\")\n",
        "print(f\"Количество батчей в проверочном DataLoader: {len(val_loader)}\")\n",
        "print(f\"Количество батчей в тестовом DataLoader: {len(test_loader)}\")"
      ],
      "metadata": {
        "colab": {
          "base_uri": "https://localhost:8080/"
        },
        "id": "Za6xiK5BBYa9",
        "outputId": "e3e89bf0-18a6-49cc-dd45-ac1637349917"
      },
      "execution_count": null,
      "outputs": [
        {
          "output_type": "stream",
          "name": "stdout",
          "text": [
            "Количество батчей в обучающем DataLoader: 80\n",
            "Количество батчей в проверочном DataLoader: 20\n",
            "Количество батчей в тестовом DataLoader: 43\n"
          ]
        }
      ]
    },
    {
      "cell_type": "code",
      "source": [
        "dataset_iter = iter(train_loader)\n",
        "images, labels = next(dataset_iter)\n",
        "\n",
        "print(f\"Image batch: {images.size()}\")\n",
        "print(f\"Image label: {labels.size()}\")"
      ],
      "metadata": {
        "colab": {
          "base_uri": "https://localhost:8080/"
        },
        "id": "8qbcMKZxC05q",
        "outputId": "db0b9369-3dc9-4499-f07d-f78a934a772f"
      },
      "execution_count": null,
      "outputs": [
        {
          "output_type": "stream",
          "name": "stdout",
          "text": [
            "Image batch: torch.Size([64, 3, 32, 32])\n",
            "Image label: torch.Size([64])\n"
          ]
        }
      ]
    },
    {
      "cell_type": "markdown",
      "source": [
        "1 сеть"
      ],
      "metadata": {
        "id": "hQviYUx4p_OU"
      }
    },
    {
      "cell_type": "code",
      "source": [
        "# Определение архитектуры LeNet5\n",
        "class LeNet5(nn.Module):\n",
        "\n",
        "    def __init__(self, num_classes):\n",
        "        super(LeNet5, self).__init__()\n",
        "\n",
        "        self.num_classes = num_classes\n",
        "\n",
        "        self.features = nn.Sequential(\n",
        "            nn.Conv2d(3, 6*3, kernel_size=5),\n",
        "            nn.Tanh(),\n",
        "            nn.MaxPool2d(kernel_size=2),\n",
        "            nn.Conv2d(6*3, 16*3, kernel_size=5),\n",
        "            nn.Tanh(),\n",
        "            nn.MaxPool2d(kernel_size=2)\n",
        "        )\n",
        "\n",
        "        self.classifier = nn.Sequential(\n",
        "            nn.Linear(16*5*5*3, 120*3),\n",
        "            nn.Tanh(),\n",
        "            nn.Linear(120*3, 84*3),\n",
        "            nn.Tanh(),\n",
        "            nn.Linear(84*3, num_classes),\n",
        "        )\n",
        "\n",
        "    def forward(self, x):\n",
        "        x = self.features(x)\n",
        "        x = torch.flatten(x, 1)\n",
        "        x = self.classifier(x)\n",
        "        return x"
      ],
      "metadata": {
        "id": "21KP8IXlj2ih"
      },
      "execution_count": null,
      "outputs": []
    },
    {
      "cell_type": "code",
      "source": [
        "# Определение функции потерь и оптимизатора\n",
        "model = LeNet5(num_classes=2)\n",
        "criterion = nn.CrossEntropyLoss()\n",
        "optimizer = optim.Adam(model.parameters(), lr=0.001)"
      ],
      "metadata": {
        "id": "UTSFFm1FBG66"
      },
      "execution_count": null,
      "outputs": []
    },
    {
      "cell_type": "code",
      "source": [
        "# Обучение модели\n",
        "def train_model(model, criterion, optimizer, train_loader, val_loader, num_epochs=20):\n",
        "    train_losses = []\n",
        "    val_losses = []\n",
        "    for epoch in range(num_epochs):\n",
        "        model.train()\n",
        "        running_loss = 0.0\n",
        "        for inputs, labels in train_loader:\n",
        "            optimizer.zero_grad()\n",
        "            outputs = model(inputs)\n",
        "            loss = criterion(outputs, labels)\n",
        "            loss.backward()\n",
        "            optimizer.step()\n",
        "            running_loss += loss.item() * inputs.size(0)\n",
        "        epoch_loss = running_loss / len(train_loader.dataset)\n",
        "        train_losses.append(epoch_loss)\n",
        "\n",
        "        # Валидация модели\n",
        "        model.eval()\n",
        "        val_loss = 0.0\n",
        "        correct = 0\n",
        "        total = 0\n",
        "        with torch.no_grad():\n",
        "            for inputs, labels in val_loader:\n",
        "                outputs = model(inputs)\n",
        "                loss = criterion(outputs, labels)\n",
        "                val_loss += loss.item() * inputs.size(0)\n",
        "                _, predicted = torch.max(outputs, 1)\n",
        "                total += labels.size(0)\n",
        "                correct += (predicted == labels).sum().item()\n",
        "        val_loss /= len(val_loader.dataset)\n",
        "        val_losses.append(val_loss)\n",
        "\n",
        "        print(f'Epoch [{epoch+1}/{num_epochs}], '\n",
        "              f'Train Loss: {epoch_loss:.4f}, '\n",
        "              f'Val Loss: {val_loss:.4f}, '\n",
        "              f'Val Accuracy: {(correct / total) * 100:.2f}%')\n",
        "\n",
        "    return train_losses, val_losses"
      ],
      "metadata": {
        "id": "TUprlNVCArif"
      },
      "execution_count": null,
      "outputs": []
    },
    {
      "cell_type": "code",
      "source": [
        "# Обучение модели\n",
        "train_losses, val_losses = train_model(model, criterion, optimizer, train_loader, test_loader)"
      ],
      "metadata": {
        "colab": {
          "base_uri": "https://localhost:8080/"
        },
        "id": "DXRM1FnA-60D",
        "outputId": "de55652a-c497-4b00-847a-0e4620938e9b"
      },
      "execution_count": null,
      "outputs": [
        {
          "output_type": "stream",
          "name": "stdout",
          "text": [
            "Epoch [1/20], Train Loss: 0.4604, Val Loss: 0.5546, Val Accuracy: 72.99%\n",
            "Epoch [2/20], Train Loss: 0.4372, Val Loss: 0.5622, Val Accuracy: 70.83%\n",
            "Epoch [3/20], Train Loss: 0.4326, Val Loss: 0.5311, Val Accuracy: 73.50%\n",
            "Epoch [4/20], Train Loss: 0.4292, Val Loss: 0.5210, Val Accuracy: 74.72%\n",
            "Epoch [5/20], Train Loss: 0.4178, Val Loss: 0.5379, Val Accuracy: 71.85%\n",
            "Epoch [6/20], Train Loss: 0.4099, Val Loss: 0.5364, Val Accuracy: 74.46%\n",
            "Epoch [7/20], Train Loss: 0.4155, Val Loss: 0.5280, Val Accuracy: 74.13%\n",
            "Epoch [8/20], Train Loss: 0.3998, Val Loss: 0.5120, Val Accuracy: 76.66%\n",
            "Epoch [9/20], Train Loss: 0.4049, Val Loss: 0.5066, Val Accuracy: 76.18%\n",
            "Epoch [10/20], Train Loss: 0.3896, Val Loss: 0.5181, Val Accuracy: 75.19%\n",
            "Epoch [11/20], Train Loss: 0.3910, Val Loss: 0.4818, Val Accuracy: 76.73%\n",
            "Epoch [12/20], Train Loss: 0.3890, Val Loss: 0.4766, Val Accuracy: 77.54%\n",
            "Epoch [13/20], Train Loss: 0.3779, Val Loss: 0.4642, Val Accuracy: 78.17%\n",
            "Epoch [14/20], Train Loss: 0.3700, Val Loss: 0.4540, Val Accuracy: 77.28%\n",
            "Epoch [15/20], Train Loss: 0.3752, Val Loss: 0.4737, Val Accuracy: 77.36%\n",
            "Epoch [16/20], Train Loss: 0.3567, Val Loss: 0.4472, Val Accuracy: 78.83%\n",
            "Epoch [17/20], Train Loss: 0.3618, Val Loss: 0.4814, Val Accuracy: 76.40%\n",
            "Epoch [18/20], Train Loss: 0.3469, Val Loss: 0.4472, Val Accuracy: 78.57%\n",
            "Epoch [19/20], Train Loss: 0.3474, Val Loss: 0.4363, Val Accuracy: 79.23%\n",
            "Epoch [20/20], Train Loss: 0.3540, Val Loss: 0.4437, Val Accuracy: 79.23%\n"
          ]
        }
      ]
    },
    {
      "cell_type": "code",
      "source": [
        "# Вывод графиков результатов\n",
        "plt.plot(train_losses, label='Training loss')\n",
        "plt.plot(val_losses, label='Validation loss')\n",
        "plt.xlabel('Epoch')\n",
        "plt.ylabel('Loss')\n",
        "plt.legend()\n",
        "plt.show()"
      ],
      "metadata": {
        "id": "VZu2SGuzDxuZ",
        "colab": {
          "base_uri": "https://localhost:8080/",
          "height": 449
        },
        "outputId": "8e876e76-325d-43b4-dd9a-bc4ffeade1bb"
      },
      "execution_count": null,
      "outputs": [
        {
          "output_type": "display_data",
          "data": {
            "text/plain": [
              "<Figure size 640x480 with 1 Axes>"
            ],
            "image/png": "[encoded data removed]"
          },
          "metadata": {}
        }
      ]
    },
    {
      "cell_type": "code",
      "source": [
        "# Оценка модели на тестовой выборке\n",
        "model.eval()\n",
        "test_loss = 0.0\n",
        "correct = 0\n",
        "total = 0\n",
        "with torch.no_grad():\n",
        "    for inputs, labels in test_loader:\n",
        "        outputs = model(inputs)\n",
        "        loss = criterion(outputs, labels)\n",
        "        test_loss += loss.item() * inputs.size(0)\n",
        "        _, predicted = torch.max(outputs, 1)\n",
        "        total += labels.size(0)\n",
        "        correct += (predicted == labels).sum().item()\n",
        "\n",
        "test_loss /= len(test_loader.dataset)\n",
        "accuracy = correct / total\n",
        "print(f'Test Loss: {test_loss:.4f}, Test Accuracy: {(accuracy) * 100:.2f}%')"
      ],
      "metadata": {
        "id": "4f4MpmQsEJJW",
        "colab": {
          "base_uri": "https://localhost:8080/"
        },
        "outputId": "86444b6f-f138-48eb-e835-cf57c8774016"
      },
      "execution_count": null,
      "outputs": [
        {
          "output_type": "stream",
          "name": "stdout",
          "text": [
            "Test Loss: 0.4368, Test Accuracy: 79.08%\n"
          ]
        }
      ]
    },
    {
      "cell_type": "markdown",
      "source": [
        "2 сеть"
      ],
      "metadata": {
        "id": "-nzDhliFqCph"
      }
    },
    {
      "cell_type": "code",
      "source": [
        "import torch\n",
        "import torch.nn as nn\n",
        "\n",
        "class LeNet2(nn.Module):\n",
        "    def __init__(self, num_classes):\n",
        "        super(LeNet2, self).__init__()\n",
        "        self.num_classes = num_classes\n",
        "        self.features = nn.Sequential(\n",
        "            nn.Conv2d(3, 6, kernel_size=5),\n",
        "            nn.BatchNorm2d(6),\n",
        "            nn.Tanh(),\n",
        "            nn.MaxPool2d(kernel_size=2),\n",
        "            nn.Conv2d(6, 16, kernel_size=5),\n",
        "            nn.BatchNorm2d(16),\n",
        "            nn.Tanh(),\n",
        "            nn.MaxPool2d(kernel_size=2)\n",
        "        )\n",
        "        self.classifier = nn.Sequential(\n",
        "            nn.Linear(16 * 5 * 5, 120),\n",
        "            nn.BatchNorm1d(120),\n",
        "            nn.Tanh(),\n",
        "            nn.Linear(120, 84),\n",
        "            nn.BatchNorm1d(84),\n",
        "            nn.Tanh(),\n",
        "            nn.Linear(84, num_classes)\n",
        "        )\n",
        "\n",
        "    def forward(self, x):\n",
        "        x = self.features(x)\n",
        "        x = torch.flatten(x, 1)\n",
        "        x = self.classifier(x)\n",
        "        return x"
      ],
      "metadata": {
        "id": "Qa55wc98diJY"
      },
      "execution_count": null,
      "outputs": []
    },
    {
      "cell_type": "code",
      "source": [
        "# Определение функции потерь и оптимизатора\n",
        "model = LeNet2(num_classes=2)\n",
        "criterion = nn.CrossEntropyLoss()\n",
        "optimizer = optim.Adam(model.parameters(), lr=0.001)"
      ],
      "metadata": {
        "id": "j-p-DhE6diMc"
      },
      "execution_count": null,
      "outputs": []
    },
    {
      "cell_type": "code",
      "source": [
        "# Обучение модели\n",
        "def train_model(model, criterion, optimizer, train_loader, val_loader, num_epochs=40):\n",
        "    train_losses = []\n",
        "    val_losses = []\n",
        "    for epoch in range(num_epochs):\n",
        "        model.train()\n",
        "        running_loss = 0.0\n",
        "        for inputs, labels in train_loader:\n",
        "            optimizer.zero_grad()\n",
        "            outputs = model(inputs)\n",
        "            loss = criterion(outputs, labels)\n",
        "            loss.backward()\n",
        "            optimizer.step()\n",
        "            running_loss += loss.item() * inputs.size(0)\n",
        "        epoch_loss = running_loss / len(train_loader.dataset)\n",
        "        train_losses.append(epoch_loss)\n",
        "\n",
        "        # Валидация модели\n",
        "        model.eval()\n",
        "        val_loss = 0.0\n",
        "        correct = 0\n",
        "        total = 0\n",
        "        with torch.no_grad():\n",
        "            for inputs, labels in val_loader:\n",
        "                outputs = model(inputs)\n",
        "                loss = criterion(outputs, labels)\n",
        "                val_loss += loss.item() * inputs.size(0)\n",
        "                _, predicted = torch.max(outputs, 1)\n",
        "                total += labels.size(0)\n",
        "                correct += (predicted == labels).sum().item()\n",
        "        val_loss /= len(val_loader.dataset)\n",
        "        val_losses.append(val_loss)\n",
        "\n",
        "        print(f'Epoch [{epoch+1}/{num_epochs}], '\n",
        "              f'Train Loss: {epoch_loss:.4f}, '\n",
        "              f'Val Loss: {val_loss:.4f}, '\n",
        "              f'Val Accuracy: {(correct / total) * 100:.2f}%')\n",
        "\n",
        "    return train_losses, val_losses"
      ],
      "metadata": {
        "id": "d0h4Ua0fdiQI"
      },
      "execution_count": null,
      "outputs": []
    },
    {
      "cell_type": "code",
      "source": [
        "# Обучение модели\n",
        "train_losses, val_losses = train_model(model, criterion, optimizer, train_loader, test_loader)"
      ],
      "metadata": {
        "colab": {
          "base_uri": "https://localhost:8080/"
        },
        "id": "pLXYylwEdiTx",
        "outputId": "56efab97-4fdc-405e-f099-95a9c7f181fb"
      },
      "execution_count": null,
      "outputs": [
        {
          "output_type": "stream",
          "name": "stdout",
          "text": [
            "Epoch [1/40], Train Loss: 0.5024, Val Loss: 0.5786, Val Accuracy: 67.85%\n",
            "Epoch [2/40], Train Loss: 0.4462, Val Loss: 0.5323, Val Accuracy: 73.91%\n",
            "Epoch [3/40], Train Loss: 0.4165, Val Loss: 0.5290, Val Accuracy: 72.55%\n",
            "Epoch [4/40], Train Loss: 0.4065, Val Loss: 0.5049, Val Accuracy: 75.56%\n",
            "Epoch [5/40], Train Loss: 0.3944, Val Loss: 0.4840, Val Accuracy: 76.59%\n",
            "Epoch [6/40], Train Loss: 0.3974, Val Loss: 0.5202, Val Accuracy: 75.93%\n",
            "Epoch [7/40], Train Loss: 0.3899, Val Loss: 0.5461, Val Accuracy: 71.71%\n",
            "Epoch [8/40], Train Loss: 0.3904, Val Loss: 0.5012, Val Accuracy: 76.77%\n",
            "Epoch [9/40], Train Loss: 0.3724, Val Loss: 0.4619, Val Accuracy: 77.69%\n",
            "Epoch [10/40], Train Loss: 0.3809, Val Loss: 0.5196, Val Accuracy: 73.03%\n",
            "Epoch [11/40], Train Loss: 0.3703, Val Loss: 0.5268, Val Accuracy: 74.31%\n",
            "Epoch [12/40], Train Loss: 0.3664, Val Loss: 0.4739, Val Accuracy: 76.81%\n",
            "Epoch [13/40], Train Loss: 0.3601, Val Loss: 0.5178, Val Accuracy: 75.19%\n",
            "Epoch [14/40], Train Loss: 0.3701, Val Loss: 0.4497, Val Accuracy: 78.64%\n",
            "Epoch [15/40], Train Loss: 0.3593, Val Loss: 0.4508, Val Accuracy: 77.61%\n",
            "Epoch [16/40], Train Loss: 0.3594, Val Loss: 0.4513, Val Accuracy: 78.83%\n",
            "Epoch [17/40], Train Loss: 0.3480, Val Loss: 0.4901, Val Accuracy: 75.96%\n",
            "Epoch [18/40], Train Loss: 0.3502, Val Loss: 0.4565, Val Accuracy: 78.42%\n",
            "Epoch [19/40], Train Loss: 0.3487, Val Loss: 0.4810, Val Accuracy: 77.69%\n",
            "Epoch [20/40], Train Loss: 0.3399, Val Loss: 0.4547, Val Accuracy: 79.05%\n",
            "Epoch [21/40], Train Loss: 0.3445, Val Loss: 0.4532, Val Accuracy: 78.20%\n",
            "Epoch [22/40], Train Loss: 0.3507, Val Loss: 0.4482, Val Accuracy: 79.12%\n",
            "Epoch [23/40], Train Loss: 0.3486, Val Loss: 0.4347, Val Accuracy: 79.45%\n",
            "Epoch [24/40], Train Loss: 0.3318, Val Loss: 0.5293, Val Accuracy: 75.12%\n",
            "Epoch [25/40], Train Loss: 0.3396, Val Loss: 0.4506, Val Accuracy: 79.56%\n",
            "Epoch [26/40], Train Loss: 0.3277, Val Loss: 0.4468, Val Accuracy: 78.57%\n",
            "Epoch [27/40], Train Loss: 0.3289, Val Loss: 0.4313, Val Accuracy: 79.34%\n",
            "Epoch [28/40], Train Loss: 0.3336, Val Loss: 0.4490, Val Accuracy: 78.39%\n",
            "Epoch [29/40], Train Loss: 0.3357, Val Loss: 0.4277, Val Accuracy: 79.60%\n",
            "Epoch [30/40], Train Loss: 0.3271, Val Loss: 0.4111, Val Accuracy: 80.66%\n",
            "Epoch [31/40], Train Loss: 0.3245, Val Loss: 0.4178, Val Accuracy: 81.03%\n",
            "Epoch [32/40], Train Loss: 0.3307, Val Loss: 0.4126, Val Accuracy: 79.60%\n",
            "Epoch [33/40], Train Loss: 0.3172, Val Loss: 0.4573, Val Accuracy: 79.63%\n",
            "Epoch [34/40], Train Loss: 0.3208, Val Loss: 0.4332, Val Accuracy: 78.97%\n",
            "Epoch [35/40], Train Loss: 0.3219, Val Loss: 0.4105, Val Accuracy: 80.15%\n",
            "Epoch [36/40], Train Loss: 0.3180, Val Loss: 0.4000, Val Accuracy: 80.59%\n",
            "Epoch [37/40], Train Loss: 0.3225, Val Loss: 0.4036, Val Accuracy: 81.58%\n",
            "Epoch [38/40], Train Loss: 0.3194, Val Loss: 0.4503, Val Accuracy: 78.35%\n",
            "Epoch [39/40], Train Loss: 0.3206, Val Loss: 0.4212, Val Accuracy: 80.15%\n",
            "Epoch [40/40], Train Loss: 0.3203, Val Loss: 0.4495, Val Accuracy: 78.72%\n"
          ]
        }
      ]
    },
    {
      "cell_type": "code",
      "source": [
        "# Вывод графиков результатов\n",
        "plt.plot(train_losses, label='Training loss')\n",
        "plt.plot(val_losses, label='Validation loss')\n",
        "plt.xlabel('Epoch')\n",
        "plt.ylabel('Loss')\n",
        "plt.legend()\n",
        "plt.show()"
      ],
      "metadata": {
        "colab": {
          "base_uri": "https://localhost:8080/",
          "height": 449
        },
        "id": "g80GfhQSqYR0",
        "outputId": "d5beecd4-bf92-4c93-eaf6-d56b59318dd9"
      },
      "execution_count": null,
      "outputs": [
        {
          "output_type": "display_data",
          "data": {
            "text/plain": [
              "<Figure size 640x480 with 1 Axes>"
            ],
            "image/png": "[encoded data removed]"
          },
          "metadata": {}
        }
      ]
    },
    {
      "cell_type": "code",
      "source": [
        "# Оценка модели на тестовой выборке\n",
        "model.eval()\n",
        "test_loss = 0.0\n",
        "correct = 0\n",
        "total = 0\n",
        "with torch.no_grad():\n",
        "    for inputs, labels in test_loader:\n",
        "        outputs = model(inputs)\n",
        "        loss = criterion(outputs, labels)\n",
        "        test_loss += loss.item() * inputs.size(0)\n",
        "        _, predicted = torch.max(outputs, 1)\n",
        "        total += labels.size(0)\n",
        "        correct += (predicted == labels).sum().item()\n",
        "\n",
        "test_loss /= len(test_loader.dataset)\n",
        "accuracy = correct / total\n",
        "print(f'Test Loss: {test_loss:.4f}, Test Accuracy: {(accuracy) * 100:.2f}%')"
      ],
      "metadata": {
        "colab": {
          "base_uri": "https://localhost:8080/"
        },
        "id": "tb59MkddqYUA",
        "outputId": "32a5de08-fd28-4e7b-d2f7-6b858147ffc2"
      },
      "execution_count": null,
      "outputs": [
        {
          "output_type": "stream",
          "name": "stdout",
          "text": [
            "Test Loss: 0.4510, Test Accuracy: 78.09%\n"
          ]
        }
      ]
    },
    {
      "cell_type": "markdown",
      "source": [
        "3 сеть"
      ],
      "metadata": {
        "id": "iS0vaNAhw9r5"
      }
    },
    {
      "cell_type": "code",
      "source": [
        "import torch\n",
        "import torch.nn as nn\n",
        "\n",
        "class CustomCNN(nn.Module):\n",
        "    def __init__(self, num_classes):\n",
        "        super(CustomCNN, self).__init__()\n",
        "        self.num_classes = num_classes\n",
        "        self.features = nn.Sequential(\n",
        "            nn.Conv2d(3, 32, kernel_size=3, padding=1),\n",
        "            nn.BatchNorm2d(32),\n",
        "            nn.ReLU(inplace=True),\n",
        "            nn.MaxPool2d(kernel_size=2, stride=2),\n",
        "            nn.Conv2d(32, 64, kernel_size=3, padding=1),\n",
        "            nn.BatchNorm2d(64),\n",
        "            nn.ReLU(inplace=True),\n",
        "            nn.MaxPool2d(kernel_size=2, stride=2),\n",
        "            nn.Conv2d(64, 128, kernel_size=3, padding=1),\n",
        "            nn.BatchNorm2d(128),\n",
        "            nn.ReLU(inplace=True),\n",
        "            nn.MaxPool2d(kernel_size=2, stride=2)\n",
        "        )\n",
        "        self.classifier = nn.Sequential(\n",
        "            nn.Linear(128 * 4 * 4, 512),\n",
        "            nn.BatchNorm1d(512),\n",
        "            nn.ReLU(inplace=True),\n",
        "            nn.Linear(512, num_classes)\n",
        "        )\n",
        "\n",
        "    def forward(self, x):\n",
        "        x = self.features(x)\n",
        "        x = torch.flatten(x, 1)\n",
        "        x = self.classifier(x)\n",
        "        return x"
      ],
      "metadata": {
        "id": "hN5Og6gNw89V"
      },
      "execution_count": null,
      "outputs": []
    },
    {
      "cell_type": "code",
      "source": [
        "# Определение функции потерь и оптимизатора\n",
        "model = CustomCNN(num_classes=2)\n",
        "criterion = nn.CrossEntropyLoss()\n",
        "optimizer = optim.Adam(model.parameters(), lr=0.001)"
      ],
      "metadata": {
        "id": "j2JNja-_diXH"
      },
      "execution_count": null,
      "outputs": []
    },
    {
      "cell_type": "code",
      "source": [
        "# Обучение модели\n",
        "def train_model(model, criterion, optimizer, train_loader, val_loader, num_epochs=30):\n",
        "    train_losses = []\n",
        "    val_losses = []\n",
        "    for epoch in range(num_epochs):\n",
        "        model.train()\n",
        "        running_loss = 0.0\n",
        "        for inputs, labels in train_loader:\n",
        "            optimizer.zero_grad()\n",
        "            outputs = model(inputs)\n",
        "            loss = criterion(outputs, labels)\n",
        "            loss.backward()\n",
        "            optimizer.step()\n",
        "            running_loss += loss.item() * inputs.size(0)\n",
        "        epoch_loss = running_loss / len(train_loader.dataset)\n",
        "        train_losses.append(epoch_loss)\n",
        "\n",
        "        # Валидация модели\n",
        "        model.eval()\n",
        "        val_loss = 0.0\n",
        "        correct = 0\n",
        "        total = 0\n",
        "        with torch.no_grad():\n",
        "            for inputs, labels in val_loader:\n",
        "                outputs = model(inputs)\n",
        "                loss = criterion(outputs, labels)\n",
        "                val_loss += loss.item() * inputs.size(0)\n",
        "                _, predicted = torch.max(outputs, 1)\n",
        "                total += labels.size(0)\n",
        "                correct += (predicted == labels).sum().item()\n",
        "        val_loss /= len(val_loader.dataset)\n",
        "        val_losses.append(val_loss)\n",
        "\n",
        "        print(f'Epoch [{epoch+1}/{num_epochs}], '\n",
        "              f'Train Loss: {epoch_loss:.4f}, '\n",
        "              f'Val Loss: {val_loss:.4f}, '\n",
        "              f'Val Accuracy: {(correct / total) * 100:.2f}%')\n",
        "\n",
        "    return train_losses, val_losses"
      ],
      "metadata": {
        "id": "Ej_K8BcAqpz4"
      },
      "execution_count": null,
      "outputs": []
    },
    {
      "cell_type": "code",
      "source": [
        "# Обучение модели\n",
        "train_losses, val_losses = train_model(model, criterion, optimizer, train_loader, test_loader)"
      ],
      "metadata": {
        "colab": {
          "base_uri": "https://localhost:8080/"
        },
        "id": "Aah-3E2iqp2G",
        "outputId": "920e9336-04ca-4047-ed56-7f5b929a14ab"
      },
      "execution_count": null,
      "outputs": [
        {
          "output_type": "stream",
          "name": "stdout",
          "text": [
            "Epoch [1/30], Train Loss: 0.4436, Val Loss: 0.5297, Val Accuracy: 74.64%\n",
            "Epoch [2/30], Train Loss: 0.3795, Val Loss: 0.4317, Val Accuracy: 79.67%\n",
            "Epoch [3/30], Train Loss: 0.3523, Val Loss: 0.4990, Val Accuracy: 76.77%\n",
            "Epoch [4/30], Train Loss: 0.3401, Val Loss: 0.4698, Val Accuracy: 78.39%\n",
            "Epoch [5/30], Train Loss: 0.3208, Val Loss: 0.4168, Val Accuracy: 80.62%\n",
            "Epoch [6/30], Train Loss: 0.3200, Val Loss: 0.4266, Val Accuracy: 77.36%\n",
            "Epoch [7/30], Train Loss: 0.2915, Val Loss: 0.4247, Val Accuracy: 80.11%\n",
            "Epoch [8/30], Train Loss: 0.2962, Val Loss: 0.3565, Val Accuracy: 82.39%\n",
            "Epoch [9/30], Train Loss: 0.2914, Val Loss: 0.4187, Val Accuracy: 80.44%\n",
            "Epoch [10/30], Train Loss: 0.2839, Val Loss: 0.3577, Val Accuracy: 83.19%\n",
            "Epoch [11/30], Train Loss: 0.2721, Val Loss: 0.3572, Val Accuracy: 84.07%\n",
            "Epoch [12/30], Train Loss: 0.2701, Val Loss: 0.3536, Val Accuracy: 83.19%\n",
            "Epoch [13/30], Train Loss: 0.2551, Val Loss: 0.3759, Val Accuracy: 82.75%\n",
            "Epoch [14/30], Train Loss: 0.2524, Val Loss: 0.3997, Val Accuracy: 81.87%\n",
            "Epoch [15/30], Train Loss: 0.2569, Val Loss: 0.3369, Val Accuracy: 83.63%\n",
            "Epoch [16/30], Train Loss: 0.2502, Val Loss: 0.3101, Val Accuracy: 85.25%\n",
            "Epoch [17/30], Train Loss: 0.2515, Val Loss: 0.3321, Val Accuracy: 84.59%\n",
            "Epoch [18/30], Train Loss: 0.2418, Val Loss: 0.3243, Val Accuracy: 85.21%\n",
            "Epoch [19/30], Train Loss: 0.2361, Val Loss: 0.3284, Val Accuracy: 83.74%\n",
            "Epoch [20/30], Train Loss: 0.2385, Val Loss: 0.3008, Val Accuracy: 85.72%\n",
            "Epoch [21/30], Train Loss: 0.2288, Val Loss: 0.3000, Val Accuracy: 86.13%\n",
            "Epoch [22/30], Train Loss: 0.2370, Val Loss: 0.2933, Val Accuracy: 86.57%\n",
            "Epoch [23/30], Train Loss: 0.2325, Val Loss: 0.2935, Val Accuracy: 87.01%\n",
            "Epoch [24/30], Train Loss: 0.2264, Val Loss: 0.2688, Val Accuracy: 87.49%\n",
            "Epoch [25/30], Train Loss: 0.2170, Val Loss: 0.3283, Val Accuracy: 84.92%\n",
            "Epoch [26/30], Train Loss: 0.2165, Val Loss: 0.2870, Val Accuracy: 87.16%\n",
            "Epoch [27/30], Train Loss: 0.2141, Val Loss: 0.2915, Val Accuracy: 86.83%\n",
            "Epoch [28/30], Train Loss: 0.2159, Val Loss: 0.3658, Val Accuracy: 84.18%\n",
            "Epoch [29/30], Train Loss: 0.2118, Val Loss: 0.2983, Val Accuracy: 86.46%\n",
            "Epoch [30/30], Train Loss: 0.2159, Val Loss: 0.2793, Val Accuracy: 86.02%\n"
          ]
        }
      ]
    },
    {
      "cell_type": "code",
      "source": [
        "# Вывод графиков результатов\n",
        "plt.plot(train_losses, label='Training loss')\n",
        "plt.plot(val_losses, label='Validation loss')\n",
        "plt.xlabel('Epoch')\n",
        "plt.ylabel('Loss')\n",
        "plt.legend()\n",
        "plt.show()"
      ],
      "metadata": {
        "colab": {
          "base_uri": "https://localhost:8080/",
          "height": 449
        },
        "id": "AtMxdcDKqp4j",
        "outputId": "2f21616d-dc80-478b-ed87-edc3fcd37d04"
      },
      "execution_count": null,
      "outputs": [
        {
          "output_type": "display_data",
          "data": {
            "text/plain": [
              "<Figure size 640x480 with 1 Axes>"
            ],
            "image/png": "[encoded data removed]"
          },
          "metadata": {}
        }
      ]
    },
    {
      "cell_type": "code",
      "source": [
        "# Оценка модели на тестовой выборке\n",
        "model.eval()\n",
        "test_loss = 0.0\n",
        "correct = 0\n",
        "total = 0\n",
        "with torch.no_grad():\n",
        "    for inputs, labels in test_loader:\n",
        "        outputs = model(inputs)\n",
        "        loss = criterion(outputs, labels)\n",
        "        test_loss += loss.item() * inputs.size(0)\n",
        "        _, predicted = torch.max(outputs, 1)\n",
        "        total += labels.size(0)\n",
        "        correct += (predicted == labels).sum().item()\n",
        "\n",
        "test_loss /= len(test_loader.dataset)\n",
        "accuracy = correct / total\n",
        "print(f'Test Loss: {test_loss:.4f}, Test Accuracy: {(accuracy) * 100:.2f}%')"
      ],
      "metadata": {
        "colab": {
          "base_uri": "https://localhost:8080/"
        },
        "id": "dRhk87Drqp6n",
        "outputId": "1f4e80aa-cdcb-494d-c2fe-9cc3c56ccfb0"
      },
      "execution_count": null,
      "outputs": [
        {
          "output_type": "stream",
          "name": "stdout",
          "text": [
            "Test Loss: 0.2700, Test Accuracy: 86.97%\n"
          ]
        }
      ]
    },
    {
      "cell_type": "markdown",
      "source": [
        "Таким образом, третья архитектура сети обучается быстрее, переобучения не возникает. На тестовых данных точность составила 86.97%."
      ],
      "metadata": {
        "id": "8XyBXFUj17l1"
      }
    },
    {
      "cell_type": "markdown",
      "source": [
        "#  Задание 2.\n",
        "\n",
        "Порядок выполнения\n",
        "1.  Загрузите датасет fmr.zip.\n",
        "2.\tСоздайте 3 архитектуры сверточной нейронной сети для распознавания данных из набора fmr.zip. Обучите сеть и выведите результаты на тренировочной и валидационной выборках.\n",
        "4.\tПроверьте работу сети на тестовой выборке. Добейтесь точности не менее 85%.\n",
        "5.\tЗагрузите файлы с картинками из интернета или создайте свои фотографии.\n",
        "6.\tПроверьте работу сети на собственных картинках."
      ],
      "metadata": {
        "id": "s03vZSMS7zAQ"
      }
    },
    {
      "cell_type": "code",
      "source": [
        "import zipfile\n",
        "import os\n",
        "\n",
        "# Путь к вашему архиву zip\n",
        "zip_file_path = '/content/drive/MyDrive/Colab Notebooks/middle_fmr.zip'\n",
        "\n",
        "# Папка, куда будут распакованы файлы\n",
        "extract_folder = '/content/middle_fmr'\n",
        "\n",
        "# Распаковка архива\n",
        "with zipfile.ZipFile(zip_file_path, 'r') as zip_ref:\n",
        "    zip_ref.extractall(extract_folder)\n",
        "\n",
        "# Проверка содержимого папки\n",
        "print(os.listdir(extract_folder))\n"
      ],
      "metadata": {
        "colab": {
          "base_uri": "https://localhost:8080/"
        },
        "id": "YyhGZM1UIkdy",
        "outputId": "8b72594e-d01b-43a2-ec57-43e04197f75c"
      },
      "execution_count": null,
      "outputs": [
        {
          "output_type": "stream",
          "name": "stdout",
          "text": [
            "['Mercedes', 'Ferrari', 'Renault']\n"
          ]
        }
      ]
    },
    {
      "cell_type": "code",
      "source": [
        "import torch\n",
        "import torch.nn as nn\n",
        "import torch.optim as optim\n",
        "from torch.utils.data import DataLoader\n",
        "from torchvision import datasets, transforms\n",
        "import matplotlib.pyplot as plt\n",
        "import torch.nn.functional as F\n",
        "from torch.utils.data.sampler import SubsetRandomSampler\n",
        "from torch.utils.data import random_split\n",
        "from torch.utils.data import random_split, Subset\n",
        "import numpy as np"
      ],
      "metadata": {
        "id": "PsNhiJSEIkgJ"
      },
      "execution_count": null,
      "outputs": []
    },
    {
      "cell_type": "code",
      "source": [
        "# Загрузка датасета\n",
        "transform = transforms.Compose([\n",
        "    transforms.Resize((64, 64)),\n",
        "    transforms.ToTensor(),\n",
        "    transforms.Normalize([0.5, 0.5, 0.5], [0.5, 0.5, 0.5])\n",
        "])\n",
        "\n",
        "dataset = datasets.ImageFolder(root='/content/middle_fmr', transform=transform)"
      ],
      "metadata": {
        "id": "rYQAYjbkIpUE"
      },
      "execution_count": null,
      "outputs": []
    },
    {
      "cell_type": "code",
      "source": [
        "image_shape = dataset[0][0].shape  # Размерность изображений\n",
        "num_classes = len(dataset.classes)  # Количество классов\n",
        "classes_labels = dataset.classes  # Метки классов\n",
        "\n",
        "print(image_shape, num_classes, classes_labels)"
      ],
      "metadata": {
        "colab": {
          "base_uri": "https://localhost:8080/"
        },
        "id": "YGpwxT6JIpWN",
        "outputId": "625a5aed-c6db-45d8-c0b5-66fcfcc0a964"
      },
      "execution_count": null,
      "outputs": [
        {
          "output_type": "stream",
          "name": "stdout",
          "text": [
            "torch.Size([3, 64, 64]) 3 ['Ferrari', 'Mercedes', 'Renault']\n"
          ]
        }
      ]
    },
    {
      "cell_type": "code",
      "source": [
        "import numpy as np\n",
        "from torch.utils.data.sampler import SubsetRandomSampler\n",
        "\n",
        "val_size = 0.15\n",
        "test_size = 0.15\n",
        "train_samples = int((1 - test_size) * len(dataset))\n",
        "train_indices = list(range(train_samples))\n",
        "test_samples = len(dataset) - train_samples\n",
        "\n",
        "train_dataset, test_dataset = random_split(dataset, [train_samples, test_samples])\n",
        "\n",
        "split_value = int(np.floor(val_size * train_samples))\n",
        "np.random.shuffle(train_indices)\n",
        "\n",
        "train_idx, val_idx = train_indices[split_value:], train_indices[:split_value]\n",
        "\n",
        "train_sampler = SubsetRandomSampler(train_idx)\n",
        "val_sampler = SubsetRandomSampler(val_idx)"
      ],
      "metadata": {
        "id": "o1BoByQ89vHv"
      },
      "execution_count": null,
      "outputs": []
    },
    {
      "cell_type": "code",
      "source": [
        "from torch.utils.data import DataLoader\n",
        "BATCH_SIZE = 32\n",
        "train_loader = DataLoader(dataset, sampler=train_sampler, batch_size=BATCH_SIZE, shuffle=False)\n",
        "val_loader = DataLoader(dataset, sampler=val_sampler, batch_size=BATCH_SIZE, shuffle=False)\n",
        "test_loader = DataLoader(dataset, batch_size=BATCH_SIZE, shuffle=False)\n",
        "\n",
        "# Вывод информации о количестве батчей\n",
        "print(f\"Количество батчей в обучающем DataLoader: {len(train_loader)}\")\n",
        "print(f\"Количество батчей в проверочном DataLoader: {len(val_loader)}\")\n",
        "print(f\"Количество батчей в тестовом DataLoader: {len(test_loader)}\")"
      ],
      "metadata": {
        "colab": {
          "base_uri": "https://localhost:8080/"
        },
        "id": "xCgeW0aH97l_",
        "outputId": "f4004018-30db-428f-90fe-2a2e9c5200ea"
      },
      "execution_count": null,
      "outputs": [
        {
          "output_type": "stream",
          "name": "stdout",
          "text": [
            "Количество батчей в обучающем DataLoader: 78\n",
            "Количество батчей в проверочном DataLoader: 14\n",
            "Количество батчей в тестовом DataLoader: 108\n"
          ]
        }
      ]
    },
    {
      "cell_type": "markdown",
      "source": [
        "**1 архитектура**"
      ],
      "metadata": {
        "id": "ujVhQZ-N480m"
      }
    },
    {
      "cell_type": "code",
      "source": [
        "import torch\n",
        "import torch.nn as nn\n",
        "\n",
        "class SimpleCNN1(nn.Module):\n",
        "    def __init__(self, num_classes):\n",
        "        super(SimpleCNN1, self).__init__()\n",
        "        self.num_classes = num_classes\n",
        "        self.conv1 = nn.Conv2d(3, 32, kernel_size=3, padding=1)\n",
        "        self.conv2 = nn.Conv2d(32, 64, kernel_size=3, padding=1)\n",
        "        self.conv3 = nn.Conv2d(64, 128, kernel_size=3, padding=1)\n",
        "        self.pool = nn.MaxPool2d(2, 2)\n",
        "        self.classifier = nn.Sequential(\n",
        "            nn.Linear(128 * 8 * 8, 512),\n",
        "            nn.ReLU(inplace=True),\n",
        "            nn.Linear(512, num_classes)\n",
        "        )\n",
        "\n",
        "    def forward(self, x):\n",
        "        x = self.pool(torch.relu(self.conv1(x)))\n",
        "        x = self.pool(torch.relu(self.conv2(x)))\n",
        "        x = self.pool(torch.relu(self.conv3(x)))\n",
        "        x = x.view(-1, 128 * 8 * 8)\n",
        "        x = self.classifier(x)\n",
        "        return x"
      ],
      "metadata": {
        "id": "XrytUPto4rgq"
      },
      "execution_count": null,
      "outputs": []
    },
    {
      "cell_type": "code",
      "source": [
        "# Определение функции потерь и оптимизатора\n",
        "model1 = SimpleCNN1(num_classes=3)\n",
        "criterion = nn.CrossEntropyLoss()\n",
        "optimizer = optim.Adam(model1.parameters(), lr=0.001)"
      ],
      "metadata": {
        "id": "-9QDmE6o4rjK"
      },
      "execution_count": null,
      "outputs": []
    },
    {
      "cell_type": "code",
      "source": [
        "# Обучение модели\n",
        "def train_model(model1, criterion, optimizer, train_loader, val_loader, num_epochs=20):\n",
        "    train_losses = []\n",
        "    val_losses = []\n",
        "    for epoch in range(num_epochs):\n",
        "        model.train()\n",
        "        running_loss = 0.0\n",
        "        for inputs, labels in train_loader:\n",
        "            optimizer.zero_grad()\n",
        "            outputs = model(inputs)\n",
        "            loss = criterion(outputs, labels)\n",
        "            loss.backward()\n",
        "            optimizer.step()\n",
        "            running_loss += loss.item() * inputs.size(0)\n",
        "        epoch_loss = running_loss / len(train_loader.dataset)\n",
        "        train_losses.append(epoch_loss)\n",
        "\n",
        "        # Валидация модели\n",
        "        model.eval()\n",
        "        val_loss = 0.0\n",
        "        correct = 0\n",
        "        total = 0\n",
        "        with torch.no_grad():\n",
        "            for inputs, labels in val_loader:\n",
        "                outputs = model(inputs)\n",
        "                loss = criterion(outputs, labels)\n",
        "                val_loss += loss.item() * inputs.size(0)\n",
        "                _, predicted = torch.max(outputs, 1)\n",
        "                total += labels.size(0)\n",
        "                correct += (predicted == labels).sum().item()\n",
        "        val_loss /= len(val_loader.dataset)\n",
        "        val_losses.append(val_loss)\n",
        "\n",
        "        print(f'Epoch [{epoch+1}/{num_epochs}], '\n",
        "              f'Train Loss: {epoch_loss:.4f}, '\n",
        "              f'Val Loss: {val_loss:.4f}, '\n",
        "              f'Val Accuracy: {(correct / total) * 100:.2f}%')\n",
        "\n",
        "    return train_losses, val_losses"
      ],
      "metadata": {
        "id": "DSjNgNdK4rle"
      },
      "execution_count": null,
      "outputs": []
    },
    {
      "cell_type": "code",
      "source": [
        "# Обучение модели\n",
        "train_losses, val_losses = train_model(model1, criterion, optimizer, train_loader, test_loader)"
      ],
      "metadata": {
        "colab": {
          "base_uri": "https://localhost:8080/"
        },
        "id": "ZbUlhn264rns",
        "outputId": "332c6708-8f52-4597-f1a9-3a89a99709eb"
      },
      "execution_count": null,
      "outputs": [
        {
          "output_type": "stream",
          "name": "stdout",
          "text": [
            "Epoch [1/20], Train Loss: 0.6949, Val Loss: 0.9232, Val Accuracy: 53.28%\n",
            "Epoch [2/20], Train Loss: 0.6139, Val Loss: 0.8710, Val Accuracy: 55.12%\n",
            "Epoch [3/20], Train Loss: 0.5872, Val Loss: 0.8370, Val Accuracy: 63.06%\n",
            "Epoch [4/20], Train Loss: 0.5501, Val Loss: 0.8033, Val Accuracy: 62.68%\n",
            "Epoch [5/20], Train Loss: 0.5145, Val Loss: 0.7252, Val Accuracy: 67.73%\n",
            "Epoch [6/20], Train Loss: 0.4591, Val Loss: 0.6627, Val Accuracy: 71.49%\n",
            "Epoch [7/20], Train Loss: 0.3962, Val Loss: 0.7185, Val Accuracy: 70.64%\n",
            "Epoch [8/20], Train Loss: 0.3313, Val Loss: 0.5013, Val Accuracy: 79.46%\n",
            "Epoch [9/20], Train Loss: 0.2398, Val Loss: 0.4472, Val Accuracy: 84.59%\n",
            "Epoch [10/20], Train Loss: 0.1523, Val Loss: 0.5554, Val Accuracy: 82.64%\n",
            "Epoch [11/20], Train Loss: 0.0853, Val Loss: 0.3793, Val Accuracy: 89.64%\n",
            "Epoch [12/20], Train Loss: 0.0381, Val Loss: 0.4849, Val Accuracy: 89.15%\n",
            "Epoch [13/20], Train Loss: 0.0138, Val Loss: 0.5614, Val Accuracy: 89.85%\n",
            "Epoch [14/20], Train Loss: 0.0070, Val Loss: 0.6785, Val Accuracy: 89.00%\n",
            "Epoch [15/20], Train Loss: 0.0016, Val Loss: 0.6907, Val Accuracy: 89.26%\n",
            "Epoch [16/20], Train Loss: 0.0010, Val Loss: 0.7593, Val Accuracy: 89.17%\n",
            "Epoch [17/20], Train Loss: 0.0005, Val Loss: 0.7805, Val Accuracy: 89.15%\n",
            "Epoch [18/20], Train Loss: 0.0004, Val Loss: 0.8104, Val Accuracy: 89.09%\n",
            "Epoch [19/20], Train Loss: 0.0003, Val Loss: 0.8207, Val Accuracy: 89.09%\n",
            "Epoch [20/20], Train Loss: 0.0002, Val Loss: 0.8401, Val Accuracy: 89.03%\n"
          ]
        }
      ]
    },
    {
      "cell_type": "code",
      "source": [
        "# Вывод графиков результатов\n",
        "plt.plot(train_losses, label='Training loss')\n",
        "plt.plot(val_losses, label='Validation loss')\n",
        "plt.xlabel('Epoch')\n",
        "plt.ylabel('Loss')\n",
        "plt.legend()\n",
        "plt.show()"
      ],
      "metadata": {
        "colab": {
          "base_uri": "https://localhost:8080/",
          "height": 449
        },
        "id": "7evjjyVf4rpt",
        "outputId": "b0e8dd26-6842-458d-8967-18f8bd3694ba"
      },
      "execution_count": null,
      "outputs": [
        {
          "output_type": "display_data",
          "data": {
            "text/plain": [
              "<Figure size 640x480 with 1 Axes>"
            ],
            "image/png": "[encoded data removed]"
          },
          "metadata": {}
        }
      ]
    },
    {
      "cell_type": "code",
      "source": [
        "# Оценка модели на тестовой выборке\n",
        "model.eval()\n",
        "test_loss = 0.0\n",
        "correct = 0\n",
        "total = 0\n",
        "with torch.no_grad():\n",
        "    for inputs, labels in test_loader:\n",
        "        outputs = model(inputs)\n",
        "        loss = criterion(outputs, labels)\n",
        "        test_loss += loss.item() * inputs.size(0)\n",
        "        _, predicted = torch.max(outputs, 1)\n",
        "        total += labels.size(0)\n",
        "        correct += (predicted == labels).sum().item()\n",
        "\n",
        "test_loss /= len(test_loader.dataset)\n",
        "accuracy = correct / total\n",
        "print(f'Test Loss: {test_loss:.4f}, Test Accuracy: {(accuracy) * 100:.2f}%')"
      ],
      "metadata": {
        "colab": {
          "base_uri": "https://localhost:8080/"
        },
        "id": "4EusiD1b4rrj",
        "outputId": "b705bf4f-f7e3-430b-c764-6ded6df4b5d5"
      },
      "execution_count": null,
      "outputs": [
        {
          "output_type": "stream",
          "name": "stdout",
          "text": [
            "Test Loss: 0.8401, Test Accuracy: 89.03%\n"
          ]
        }
      ]
    },
    {
      "cell_type": "markdown",
      "source": [
        "Модель склонна к переобучению"
      ],
      "metadata": {
        "id": "QMPtz2hVkbeY"
      }
    },
    {
      "cell_type": "markdown",
      "source": [
        "**3 сеть**"
      ],
      "metadata": {
        "id": "UddHv88tkpdi"
      }
    },
    {
      "cell_type": "code",
      "source": [
        "class Net(nn.Module):\n",
        "    def __init__(self):\n",
        "        super(Net, self).__init__()\n",
        "\n",
        "        self.features = nn.Sequential(\n",
        "            nn.BatchNorm2d(3),\n",
        "            nn.Conv2d(3, 6*3, kernel_size=3),\n",
        "            nn.ReLU(),\n",
        "            nn.MaxPool2d(kernel_size=3),\n",
        "            nn.BatchNorm2d(6*3),\n",
        "            nn.Conv2d(6*3, 16*3, kernel_size=3),\n",
        "            nn.ReLU(),\n",
        "            nn.MaxPool2d(kernel_size=3),\n",
        "\n",
        "                    )\n",
        "\n",
        "        self.classifier = nn.Sequential(\n",
        "                nn.Linear(1728, 192),\n",
        "                nn.Dropout(0.5),\n",
        "                nn.ReLU(),\n",
        "                nn.Linear(192, 84),\n",
        "                nn.Dropout(0.5),\n",
        "                nn.ReLU(),\n",
        "                nn.Linear(84, num_classes),\n",
        "            )\n",
        "\n",
        "    def forward(self, x):\n",
        "        x = self.features(x)\n",
        "        x = x.view(x.size(0), -1)\n",
        "        x = self.classifier(x)\n",
        "        return x"
      ],
      "metadata": {
        "id": "JrVQ5YeZ4rtd"
      },
      "execution_count": null,
      "outputs": []
    },
    {
      "cell_type": "code",
      "source": [
        "# Определение функции потерь и оптимизатора\n",
        "model = Net()\n",
        "criterion = nn.CrossEntropyLoss()\n",
        "optimizer = optim.Adam(model.parameters(), lr=0.001)"
      ],
      "metadata": {
        "id": "LdDThYre4rve"
      },
      "execution_count": null,
      "outputs": []
    },
    {
      "cell_type": "code",
      "source": [
        "# Обучение модели\n",
        "def train_model(model, criterion, optimizer, train_loader, val_loader, num_epochs=25):\n",
        "    train_losses = []\n",
        "    val_losses = []\n",
        "    for epoch in range(num_epochs):\n",
        "        model.train()\n",
        "        running_loss = 0.0\n",
        "        for inputs, labels in train_loader:\n",
        "            optimizer.zero_grad()\n",
        "            outputs = model(inputs)\n",
        "            loss = criterion(outputs, labels)\n",
        "            loss.backward()\n",
        "            optimizer.step()\n",
        "            running_loss += loss.item() * inputs.size(0)\n",
        "        epoch_loss = running_loss / len(train_loader.dataset)\n",
        "        train_losses.append(epoch_loss)\n",
        "\n",
        "        # Валидация модели\n",
        "        model.eval()\n",
        "        val_loss = 0.0\n",
        "        correct = 0\n",
        "        total = 0\n",
        "        with torch.no_grad():\n",
        "            for inputs, labels in val_loader:\n",
        "                outputs = model(inputs)\n",
        "                loss = criterion(outputs, labels)\n",
        "                val_loss += loss.item() * inputs.size(0)\n",
        "                _, predicted = torch.max(outputs, 1)\n",
        "                total += labels.size(0)\n",
        "                correct += (predicted == labels).sum().item()\n",
        "        val_loss /= len(val_loader.dataset)\n",
        "        val_losses.append(val_loss)\n",
        "\n",
        "        print(f'Epoch [{epoch+1}/{num_epochs}], '\n",
        "              f'Train Loss: {epoch_loss:.4f}, '\n",
        "              f'Val Loss: {val_loss:.4f}, '\n",
        "              f'Val Accuracy: {(correct / total) * 100:.2f}%')\n",
        "\n",
        "    return train_losses, val_losses"
      ],
      "metadata": {
        "id": "JjnyfpPtCPla"
      },
      "execution_count": null,
      "outputs": []
    },
    {
      "cell_type": "code",
      "source": [
        "# Обучение модели\n",
        "train_losses, val_losses = train_model(model, criterion, optimizer, train_loader, test_loader)"
      ],
      "metadata": {
        "colab": {
          "base_uri": "https://localhost:8080/"
        },
        "id": "Nghs-903CPnu",
        "outputId": "e954df89-45c2-4cf3-a986-322181c61a09"
      },
      "execution_count": null,
      "outputs": [
        {
          "output_type": "stream",
          "name": "stdout",
          "text": [
            "Epoch [1/25], Train Loss: 0.7076, Val Loss: 0.9037, Val Accuracy: 52.55%\n",
            "Epoch [2/25], Train Loss: 0.6290, Val Loss: 0.8860, Val Accuracy: 53.87%\n",
            "Epoch [3/25], Train Loss: 0.6167, Val Loss: 0.9017, Val Accuracy: 53.78%\n",
            "Epoch [4/25], Train Loss: 0.5954, Val Loss: 0.8196, Val Accuracy: 57.25%\n",
            "Epoch [5/25], Train Loss: 0.5739, Val Loss: 0.8275, Val Accuracy: 55.33%\n",
            "Epoch [6/25], Train Loss: 0.5484, Val Loss: 0.7456, Val Accuracy: 66.85%\n",
            "Epoch [7/25], Train Loss: 0.5334, Val Loss: 0.7031, Val Accuracy: 69.74%\n",
            "Epoch [8/25], Train Loss: 0.5242, Val Loss: 0.7337, Val Accuracy: 67.44%\n",
            "Epoch [9/25], Train Loss: 0.5002, Val Loss: 0.6931, Val Accuracy: 66.62%\n",
            "Epoch [10/25], Train Loss: 0.4752, Val Loss: 0.6397, Val Accuracy: 70.03%\n",
            "Epoch [11/25], Train Loss: 0.4544, Val Loss: 0.6487, Val Accuracy: 70.24%\n",
            "Epoch [12/25], Train Loss: 0.4311, Val Loss: 0.5962, Val Accuracy: 72.63%\n",
            "Epoch [13/25], Train Loss: 0.4300, Val Loss: 0.6312, Val Accuracy: 73.30%\n",
            "Epoch [14/25], Train Loss: 0.4182, Val Loss: 0.5743, Val Accuracy: 75.31%\n",
            "Epoch [15/25], Train Loss: 0.3650, Val Loss: 0.5588, Val Accuracy: 76.25%\n",
            "Epoch [16/25], Train Loss: 0.3506, Val Loss: 0.5030, Val Accuracy: 79.92%\n",
            "Epoch [17/25], Train Loss: 0.3412, Val Loss: 0.4819, Val Accuracy: 81.12%\n",
            "Epoch [18/25], Train Loss: 0.3336, Val Loss: 0.6057, Val Accuracy: 74.58%\n",
            "Epoch [19/25], Train Loss: 0.2884, Val Loss: 0.4264, Val Accuracy: 83.25%\n",
            "Epoch [20/25], Train Loss: 0.2682, Val Loss: 0.4570, Val Accuracy: 83.16%\n",
            "Epoch [21/25], Train Loss: 0.2686, Val Loss: 0.4351, Val Accuracy: 84.68%\n",
            "Epoch [22/25], Train Loss: 0.2325, Val Loss: 0.5166, Val Accuracy: 81.53%\n",
            "Epoch [23/25], Train Loss: 0.2227, Val Loss: 0.4426, Val Accuracy: 85.26%\n",
            "Epoch [24/25], Train Loss: 0.2100, Val Loss: 0.3762, Val Accuracy: 87.45%\n",
            "Epoch [25/25], Train Loss: 0.1963, Val Loss: 0.4183, Val Accuracy: 86.46%\n"
          ]
        }
      ]
    },
    {
      "cell_type": "code",
      "source": [
        "# Оценка модели на тестовой выборке\n",
        "model.eval()\n",
        "test_loss = 0.0\n",
        "correct = 0\n",
        "total = 0\n",
        "with torch.no_grad():\n",
        "    for inputs, labels in test_loader:\n",
        "        outputs = model(inputs)\n",
        "        loss = criterion(outputs, labels)\n",
        "        test_loss += loss.item() * inputs.size(0)\n",
        "        _, predicted = torch.max(outputs, 1)\n",
        "        total += labels.size(0)\n",
        "        correct += (predicted == labels).sum().item()\n",
        "\n",
        "test_loss /= len(test_loader.dataset)\n",
        "accuracy = correct / total\n",
        "print(f'Test Loss: {test_loss:.4f}, Test Accuracy: {(accuracy) * 100:.2f}%')"
      ],
      "metadata": {
        "colab": {
          "base_uri": "https://localhost:8080/"
        },
        "id": "5b-cV37dCPp6",
        "outputId": "d19922b0-4ebe-4b49-82b7-08adf6be4e8b"
      },
      "execution_count": null,
      "outputs": [
        {
          "output_type": "stream",
          "name": "stdout",
          "text": [
            "Test Loss: 0.4183, Test Accuracy: 86.46%\n"
          ]
        }
      ]
    },
    {
      "cell_type": "code",
      "source": [
        "# Вывод графиков результатов\n",
        "plt.plot(train_losses, label='Training loss')\n",
        "plt.plot(val_losses, label='Validation loss')\n",
        "plt.xlabel('Epoch')\n",
        "plt.ylabel('Loss')\n",
        "plt.legend()\n",
        "plt.show()"
      ],
      "metadata": {
        "colab": {
          "base_uri": "https://localhost:8080/",
          "height": 449
        },
        "id": "jT3H4pOfCPsE",
        "outputId": "75f399e4-aede-4527-d41e-c11c701ffd8b"
      },
      "execution_count": null,
      "outputs": [
        {
          "output_type": "display_data",
          "data": {
            "text/plain": [
              "<Figure size 640x480 with 1 Axes>"
            ],
            "image/png": "[encoded data removed]"
          },
          "metadata": {}
        }
      ]
    },
    {
      "cell_type": "markdown",
      "source": [
        "СУПЕР! Добились 85% на тесте. Проверим работу сети на картинках."
      ],
      "metadata": {
        "id": "859NCW-YVblS"
      }
    },
    {
      "cell_type": "code",
      "source": [
        "from google.colab import files\n",
        "uploaded = files.upload()"
      ],
      "metadata": {
        "colab": {
          "base_uri": "https://localhost:8080/",
          "height": 73
        },
        "id": "ekjMxN96CPt-",
        "outputId": "526e225f-d470-492e-e211-4eaab60521ae"
      },
      "execution_count": null,
      "outputs": [
        {
          "output_type": "display_data",
          "data": {
            "text/plain": [
              "<IPython.core.display.HTML object>"
            ],
            "text/html": [
              "\n",
              "     <input type=\"file\" id=\"files-b85624d9-6500-4680-be0a-ad55a15b77a5\" name=\"files[]\" multiple disabled\n",
              "        style=\"border:none\" />\n",
              "     <output id=\"result-b85624d9-6500-4680-be0a-ad55a15b77a5\">\n",
              "      Upload widget is only available when the cell has been executed in the\n",
              "      current browser session. Please rerun this cell to enable.\n",
              "      </output>\n",
              "      <script>// Copyright 2017 Google LLC\n",
              "//\n",
              "// Licensed under the Apache License, Version 2.0 (the \"License\");\n",
              "// you may not use this file except in compliance with the License.\n",
              "// You may obtain a copy of the License at\n",
              "//\n",
              "//      http://www.apache.org/licenses/LICENSE-2.0\n",
              "//\n",
              "// Unless required by applicable law or agreed to in writing, software\n",
              "// distributed under the License is distributed on an \"AS IS\" BASIS,\n",
              "// WITHOUT WARRANTIES OR CONDITIONS OF ANY KIND, either express or implied.\n",
              "// See the License for the specific language governing permissions and\n",
              "// limitations under the License.\n",
              "\n",
              "/**\n",
              " * @fileoverview Helpers for google.colab Python module.\n",
              " */\n",
              "(function(scope) {\n",
              "function span(text, styleAttributes = {}) {\n",
              "  const element = document.createElement('span');\n",
              "  element.textContent = text;\n",
              "  for (const key of Object.keys(styleAttributes)) {\n",
              "    element.style[key] = styleAttributes[key];\n",
              "  }\n",
              "  return element;\n",
              "}\n",
              "\n",
              "// Max number of bytes which will be uploaded at a time.\n",
              "const MAX_PAYLOAD_SIZE = 100 * 1024;\n",
              "\n",
              "function _uploadFiles(inputId, outputId) {\n",
              "  const steps = uploadFilesStep(inputId, outputId);\n",
              "  const outputElement = document.getElementById(outputId);\n",
              "  // Cache steps on the outputElement to make it available for the next call\n",
              "  // to uploadFilesContinue from Python.\n",
              "  outputElement.steps = steps;\n",
              "\n",
              "  return _uploadFilesContinue(outputId);\n",
              "}\n",
              "\n",
              "// This is roughly an async generator (not supported in the browser yet),\n",
              "// where there are multiple asynchronous steps and the Python side is going\n",
              "// to poll for completion of each step.\n",
              "// This uses a Promise to block the python side on completion of each step,\n",
              "// then passes the result of the previous step as the input to the next step.\n",
              "function _uploadFilesContinue(outputId) {\n",
              "  const outputElement = document.getElementById(outputId);\n",
              "  const steps = outputElement.steps;\n",
              "\n",
              "  const next = steps.next(outputElement.lastPromiseValue);\n",
              "  return Promise.resolve(next.value.promise).then((value) => {\n",
              "    // Cache the last promise value to make it available to the next\n",
              "    // step of the generator.\n",
              "    outputElement.lastPromiseValue = value;\n",
              "    return next.value.response;\n",
              "  });\n",
              "}\n",
              "\n",
              "/**\n",
              " * Generator function which is called between each async step of the upload\n",
              " * process.\n",
              " * @param {string} inputId Element ID of the input file picker element.\n",
              " * @param {string} outputId Element ID of the output display.\n",
              " * @return {!Iterable<!Object>} Iterable of next steps.\n",
              " */\n",
              "function* uploadFilesStep(inputId, outputId) {\n",
              "  const inputElement = document.getElementById(inputId);\n",
              "  inputElement.disabled = false;\n",
              "\n",
              "  const outputElement = document.getElementById(outputId);\n",
              "  outputElement.innerHTML = '';\n",
              "\n",
              "  const pickedPromise = new Promise((resolve) => {\n",
              "    inputElement.addEventListener('change', (e) => {\n",
              "      resolve(e.target.files);\n",
              "    });\n",
              "  });\n",
              "\n",
              "  const cancel = document.createElement('button');\n",
              "  inputElement.parentElement.appendChild(cancel);\n",
              "  cancel.textContent = 'Cancel upload';\n",
              "  const cancelPromise = new Promise((resolve) => {\n",
              "    cancel.onclick = () => {\n",
              "      resolve(null);\n",
              "    };\n",
              "  });\n",
              "\n",
              "  // Wait for the user to pick the files.\n",
              "  const files = yield {\n",
              "    promise: Promise.race([pickedPromise, cancelPromise]),\n",
              "    response: {\n",
              "      action: 'starting',\n",
              "    }\n",
              "  };\n",
              "\n",
              "  cancel.remove();\n",
              "\n",
              "  // Disable the input element since further picks are not allowed.\n",
              "  inputElement.disabled = true;\n",
              "\n",
              "  if (!files) {\n",
              "    return {\n",
              "      response: {\n",
              "        action: 'complete',\n",
              "      }\n",
              "    };\n",
              "  }\n",
              "\n",
              "  for (const file of files) {\n",
              "    const li = document.createElement('li');\n",
              "    li.append(span(file.name, {fontWeight: 'bold'}));\n",
              "    li.append(span(\n",
              "        `(${file.type || 'n/a'}) - ${file.size} bytes, ` +\n",
              "        `last modified: ${\n",
              "            file.lastModifiedDate ? file.lastModifiedDate.toLocaleDateString() :\n",
              "                                    'n/a'} - `));\n",
              "    const percent = span('0% done');\n",
              "    li.appendChild(percent);\n",
              "\n",
              "    outputElement.appendChild(li);\n",
              "\n",
              "    const fileDataPromise = new Promise((resolve) => {\n",
              "      const reader = new FileReader();\n",
              "      reader.onload = (e) => {\n",
              "        resolve(e.target.result);\n",
              "      };\n",
              "      reader.readAsArrayBuffer(file);\n",
              "    });\n",
              "    // Wait for the data to be ready.\n",
              "    let fileData = yield {\n",
              "      promise: fileDataPromise,\n",
              "      response: {\n",
              "        action: 'continue',\n",
              "      }\n",
              "    };\n",
              "\n",
              "    // Use a chunked sending to avoid message size limits. See b/62115660.\n",
              "    let position = 0;\n",
              "    do {\n",
              "      const length = Math.min(fileData.byteLength - position, MAX_PAYLOAD_SIZE);\n",
              "      const chunk = new Uint8Array(fileData, position, length);\n",
              "      position += length;\n",
              "\n",
              "      const base64 = btoa(String.fromCharCode.apply(null, chunk));\n",
              "      yield {\n",
              "        response: {\n",
              "          action: 'append',\n",
              "          file: file.name,\n",
              "          data: base64,\n",
              "        },\n",
              "      };\n",
              "\n",
              "      let percentDone = fileData.byteLength === 0 ?\n",
              "          100 :\n",
              "          Math.round((position / fileData.byteLength) * 100);\n",
              "      percent.textContent = `${percentDone}% done`;\n",
              "\n",
              "    } while (position < fileData.byteLength);\n",
              "  }\n",
              "\n",
              "  // All done.\n",
              "  yield {\n",
              "    response: {\n",
              "      action: 'complete',\n",
              "    }\n",
              "  };\n",
              "}\n",
              "\n",
              "scope.google = scope.google || {};\n",
              "scope.google.colab = scope.google.colab || {};\n",
              "scope.google.colab._files = {\n",
              "  _uploadFiles,\n",
              "  _uploadFilesContinue,\n",
              "};\n",
              "})(self);\n",
              "</script> "
            ]
          },
          "metadata": {}
        },
        {
          "output_type": "stream",
          "name": "stdout",
          "text": [
            "Saving Renault.jpeg to Renault.jpeg\n"
          ]
        }
      ]
    },
    {
      "cell_type": "code",
      "source": [
        "from IPython.display import Image\n",
        "Image('Ferrari.png')"
      ],
      "metadata": {
        "colab": {
          "base_uri": "https://localhost:8080/",
          "height": 437
        },
        "id": "F0nw2sWSWmvb",
        "outputId": "56591136-46f6-4e1e-e123-2f6619d05389"
      },
      "execution_count": null,
      "outputs": [
        {
          "output_type": "execute_result",
          "data": {
            "image/png": "[encoded data removed]",
            "text/plain": [
              "<IPython.core.display.Image object>"
            ]
          },
          "metadata": {},
          "execution_count": 146
        }
      ]
    },
    {
      "cell_type": "code",
      "source": [
        "from PIL import Image\n",
        "from torchvision import transforms\n",
        "\n",
        "def load_and_preprocess_image(image_path):\n",
        "    image = Image.open(image_path).convert('RGB')\n",
        "    input_image = transform(image).unsqueeze(0)\n",
        "    return input_image\n",
        "\n",
        "# Предсказание для 3 сети\n",
        "image_path = 'Ferrari.png'\n",
        "input_image = load_and_preprocess_image(image_path)\n",
        "output = model(input_image)\n",
        "\n",
        "# Преобразование выхода в вероятности и получение предсказанного класса\n",
        "probabilities = nn.Softmax(dim=1)(output)\n",
        "predicted_class = torch.argmax(probabilities, dim=1).item()\n",
        "predicted_class_name = dataset.classes[predicted_class]\n",
        "\n",
        "print(f'Predicted Class: {predicted_class, predicted_class_name}')"
      ],
      "metadata": {
        "colab": {
          "base_uri": "https://localhost:8080/"
        },
        "id": "ROBLoRODCPv-",
        "outputId": "96425f8e-025b-46d5-ab21-df6905d994b6"
      },
      "execution_count": null,
      "outputs": [
        {
          "output_type": "stream",
          "name": "stdout",
          "text": [
            "Predicted Class: (0, 'Ferrari')\n"
          ]
        }
      ]
    },
    {
      "cell_type": "markdown",
      "source": [
        "ВЕРНО!"
      ],
      "metadata": {
        "id": "Wo0296XCWkMt"
      }
    },
    {
      "cell_type": "code",
      "source": [
        "from IPython.display import Image\n",
        "Image('Mercedes.jpeg')"
      ],
      "metadata": {
        "colab": {
          "base_uri": "https://localhost:8080/",
          "height": 211
        },
        "id": "Tcma9z1wCPx5",
        "outputId": "641739b8-492b-4678-96b2-b002353aabf9"
      },
      "execution_count": null,
      "outputs": [
        {
          "output_type": "execute_result",
          "data": {
            "image/jpeg": "[encoded data removed]",
            "text/plain": [
              "<IPython.core.display.Image object>"
            ]
          },
          "metadata": {},
          "execution_count": 149
        }
      ]
    },
    {
      "cell_type": "code",
      "source": [
        "from PIL import Image\n",
        "from torchvision import transforms\n",
        "\n",
        "def load_and_preprocess_image(image_path):\n",
        "    image = Image.open(image_path).convert('RGB')\n",
        "    input_image = transform(image).unsqueeze(0)\n",
        "    return input_image\n",
        "\n",
        "# Предсказание для 3 сети\n",
        "image_path = 'Mercedes.jpeg'\n",
        "input_image = load_and_preprocess_image(image_path)\n",
        "output = model(input_image)\n",
        "\n",
        "# Преобразование выхода в вероятности и получение предсказанного класса\n",
        "probabilities = nn.Softmax(dim=1)(output)\n",
        "predicted_class = torch.argmax(probabilities, dim=1).item()\n",
        "predicted_class_name = dataset.classes[predicted_class]\n",
        "\n",
        "print(f'Predicted Class: {predicted_class, predicted_class_name}')"
      ],
      "metadata": {
        "colab": {
          "base_uri": "https://localhost:8080/"
        },
        "id": "HW3uOJpc4rxa",
        "outputId": "3d55ee51-0e7f-4225-e77c-d9892b7f6bc6"
      },
      "execution_count": null,
      "outputs": [
        {
          "output_type": "stream",
          "name": "stdout",
          "text": [
            "Predicted Class: (1, 'Mercedes')\n"
          ]
        }
      ]
    },
    {
      "cell_type": "markdown",
      "source": [
        "ВЕРНО!"
      ],
      "metadata": {
        "id": "H_NxMOsQXWA9"
      }
    },
    {
      "cell_type": "markdown",
      "source": [
        "**3 сеть** (все что от нее осталось, обучение проводилось на 10 эпохах)"
      ],
      "metadata": {
        "id": "ZR2x3T2wz2YW"
      }
    },
    {
      "cell_type": "code",
      "source": [
        "import torch.nn.functional as F\n",
        "\n",
        "class CustomCNN(nn.Module):\n",
        "    def __init__(self, in_channels, num_classes):\n",
        "        super(CustomCNN, self).__init__()\n",
        "        self.features = nn.Sequential(\n",
        "            nn.BatchNorm2d(in_channels),\n",
        "            nn.Conv2d(in_channels, 256, kernel_size=3),\n",
        "            nn.ReLU(),\n",
        "            nn.Conv2d(256, 256, kernel_size=3),\n",
        "            nn.ReLU(),\n",
        "            nn.MaxPool2d(kernel_size=3),\n",
        "            nn.Dropout2d(p=0.3)\n",
        "        )\n",
        "\n",
        "        # Изменяем размерность выходных данных перед полносвязным слоем\n",
        "        self.avgpool = nn.AdaptiveAvgPool2d((6, 6))\n",
        "\n",
        "        self.classifier = nn.Sequential(\n",
        "                nn.Linear(256 * 6 * 6, 192),\n",
        "                nn.Dropout(0.5),\n",
        "                nn.ReLU(),\n",
        "                nn.Linear(192, 84),\n",
        "                nn.Dropout(0.5),\n",
        "                nn.ReLU(),\n",
        "                nn.Linear(84, num_classes),\n",
        "            )\n",
        "\n",
        "    def forward(self, x):\n",
        "        x = self.features(x)\n",
        "        x = self.avgpool(x)\n",
        "        x = x.view(x.size(0), -1)\n",
        "        x = self.classifier(x)\n",
        "        return x"
      ],
      "metadata": {
        "id": "WG1MaIbXJL0e"
      },
      "execution_count": null,
      "outputs": []
    },
    {
      "cell_type": "code",
      "source": [
        "# Определение функции потерь и оптимизатора\n",
        "model2 = CustomCNN(in_channels=3, num_classes=3)\n",
        "criterion = nn.CrossEntropyLoss()\n",
        "optimizer = optim.Adam(model2.parameters(), lr=0.001)"
      ],
      "metadata": {
        "id": "0Iau3XohlXlI"
      },
      "execution_count": null,
      "outputs": []
    },
    {
      "cell_type": "code",
      "source": [
        "from google.colab import files\n",
        "uploaded = files.upload()"
      ],
      "metadata": {
        "id": "0ac4R_NvireL",
        "colab": {
          "base_uri": "https://localhost:8080/",
          "height": 73
        },
        "outputId": "a4affd49-bc8a-4a91-b4c0-bb1118b56649"
      },
      "execution_count": null,
      "outputs": [
        {
          "output_type": "display_data",
          "data": {
            "text/plain": [
              "<IPython.core.display.HTML object>"
            ],
            "text/html": [
              "\n",
              "     <input type=\"file\" id=\"files-77d90edd-5e41-4f1f-8492-88ec777b1465\" name=\"files[]\" multiple disabled\n",
              "        style=\"border:none\" />\n",
              "     <output id=\"result-77d90edd-5e41-4f1f-8492-88ec777b1465\">\n",
              "      Upload widget is only available when the cell has been executed in the\n",
              "      current browser session. Please rerun this cell to enable.\n",
              "      </output>\n",
              "      <script>// Copyright 2017 Google LLC\n",
              "//\n",
              "// Licensed under the Apache License, Version 2.0 (the \"License\");\n",
              "// you may not use this file except in compliance with the License.\n",
              "// You may obtain a copy of the License at\n",
              "//\n",
              "//      http://www.apache.org/licenses/LICENSE-2.0\n",
              "//\n",
              "// Unless required by applicable law or agreed to in writing, software\n",
              "// distributed under the License is distributed on an \"AS IS\" BASIS,\n",
              "// WITHOUT WARRANTIES OR CONDITIONS OF ANY KIND, either express or implied.\n",
              "// See the License for the specific language governing permissions and\n",
              "// limitations under the License.\n",
              "\n",
              "/**\n",
              " * @fileoverview Helpers for google.colab Python module.\n",
              " */\n",
              "(function(scope) {\n",
              "function span(text, styleAttributes = {}) {\n",
              "  const element = document.createElement('span');\n",
              "  element.textContent = text;\n",
              "  for (const key of Object.keys(styleAttributes)) {\n",
              "    element.style[key] = styleAttributes[key];\n",
              "  }\n",
              "  return element;\n",
              "}\n",
              "\n",
              "// Max number of bytes which will be uploaded at a time.\n",
              "const MAX_PAYLOAD_SIZE = 100 * 1024;\n",
              "\n",
              "function _uploadFiles(inputId, outputId) {\n",
              "  const steps = uploadFilesStep(inputId, outputId);\n",
              "  const outputElement = document.getElementById(outputId);\n",
              "  // Cache steps on the outputElement to make it available for the next call\n",
              "  // to uploadFilesContinue from Python.\n",
              "  outputElement.steps = steps;\n",
              "\n",
              "  return _uploadFilesContinue(outputId);\n",
              "}\n",
              "\n",
              "// This is roughly an async generator (not supported in the browser yet),\n",
              "// where there are multiple asynchronous steps and the Python side is going\n",
              "// to poll for completion of each step.\n",
              "// This uses a Promise to block the python side on completion of each step,\n",
              "// then passes the result of the previous step as the input to the next step.\n",
              "function _uploadFilesContinue(outputId) {\n",
              "  const outputElement = document.getElementById(outputId);\n",
              "  const steps = outputElement.steps;\n",
              "\n",
              "  const next = steps.next(outputElement.lastPromiseValue);\n",
              "  return Promise.resolve(next.value.promise).then((value) => {\n",
              "    // Cache the last promise value to make it available to the next\n",
              "    // step of the generator.\n",
              "    outputElement.lastPromiseValue = value;\n",
              "    return next.value.response;\n",
              "  });\n",
              "}\n",
              "\n",
              "/**\n",
              " * Generator function which is called between each async step of the upload\n",
              " * process.\n",
              " * @param {string} inputId Element ID of the input file picker element.\n",
              " * @param {string} outputId Element ID of the output display.\n",
              " * @return {!Iterable<!Object>} Iterable of next steps.\n",
              " */\n",
              "function* uploadFilesStep(inputId, outputId) {\n",
              "  const inputElement = document.getElementById(inputId);\n",
              "  inputElement.disabled = false;\n",
              "\n",
              "  const outputElement = document.getElementById(outputId);\n",
              "  outputElement.innerHTML = '';\n",
              "\n",
              "  const pickedPromise = new Promise((resolve) => {\n",
              "    inputElement.addEventListener('change', (e) => {\n",
              "      resolve(e.target.files);\n",
              "    });\n",
              "  });\n",
              "\n",
              "  const cancel = document.createElement('button');\n",
              "  inputElement.parentElement.appendChild(cancel);\n",
              "  cancel.textContent = 'Cancel upload';\n",
              "  const cancelPromise = new Promise((resolve) => {\n",
              "    cancel.onclick = () => {\n",
              "      resolve(null);\n",
              "    };\n",
              "  });\n",
              "\n",
              "  // Wait for the user to pick the files.\n",
              "  const files = yield {\n",
              "    promise: Promise.race([pickedPromise, cancelPromise]),\n",
              "    response: {\n",
              "      action: 'starting',\n",
              "    }\n",
              "  };\n",
              "\n",
              "  cancel.remove();\n",
              "\n",
              "  // Disable the input element since further picks are not allowed.\n",
              "  inputElement.disabled = true;\n",
              "\n",
              "  if (!files) {\n",
              "    return {\n",
              "      response: {\n",
              "        action: 'complete',\n",
              "      }\n",
              "    };\n",
              "  }\n",
              "\n",
              "  for (const file of files) {\n",
              "    const li = document.createElement('li');\n",
              "    li.append(span(file.name, {fontWeight: 'bold'}));\n",
              "    li.append(span(\n",
              "        `(${file.type || 'n/a'}) - ${file.size} bytes, ` +\n",
              "        `last modified: ${\n",
              "            file.lastModifiedDate ? file.lastModifiedDate.toLocaleDateString() :\n",
              "                                    'n/a'} - `));\n",
              "    const percent = span('0% done');\n",
              "    li.appendChild(percent);\n",
              "\n",
              "    outputElement.appendChild(li);\n",
              "\n",
              "    const fileDataPromise = new Promise((resolve) => {\n",
              "      const reader = new FileReader();\n",
              "      reader.onload = (e) => {\n",
              "        resolve(e.target.result);\n",
              "      };\n",
              "      reader.readAsArrayBuffer(file);\n",
              "    });\n",
              "    // Wait for the data to be ready.\n",
              "    let fileData = yield {\n",
              "      promise: fileDataPromise,\n",
              "      response: {\n",
              "        action: 'continue',\n",
              "      }\n",
              "    };\n",
              "\n",
              "    // Use a chunked sending to avoid message size limits. See b/62115660.\n",
              "    let position = 0;\n",
              "    do {\n",
              "      const length = Math.min(fileData.byteLength - position, MAX_PAYLOAD_SIZE);\n",
              "      const chunk = new Uint8Array(fileData, position, length);\n",
              "      position += length;\n",
              "\n",
              "      const base64 = btoa(String.fromCharCode.apply(null, chunk));\n",
              "      yield {\n",
              "        response: {\n",
              "          action: 'append',\n",
              "          file: file.name,\n",
              "          data: base64,\n",
              "        },\n",
              "      };\n",
              "\n",
              "      let percentDone = fileData.byteLength === 0 ?\n",
              "          100 :\n",
              "          Math.round((position / fileData.byteLength) * 100);\n",
              "      percent.textContent = `${percentDone}% done`;\n",
              "\n",
              "    } while (position < fileData.byteLength);\n",
              "  }\n",
              "\n",
              "  // All done.\n",
              "  yield {\n",
              "    response: {\n",
              "      action: 'complete',\n",
              "    }\n",
              "  };\n",
              "}\n",
              "\n",
              "scope.google = scope.google || {};\n",
              "scope.google.colab = scope.google.colab || {};\n",
              "scope.google.colab._files = {\n",
              "  _uploadFiles,\n",
              "  _uploadFilesContinue,\n",
              "};\n",
              "})(self);\n",
              "</script> "
            ]
          },
          "metadata": {}
        },
        {
          "output_type": "stream",
          "name": "stdout",
          "text": [
            "Saving car.jpg to car (1).jpg\n"
          ]
        }
      ]
    },
    {
      "cell_type": "code",
      "source": [
        "from sklearn.metrics import accuracy_score\n",
        "\n",
        "# Получение состояния модели best_model\n",
        "best_model_state_dict = best_model.state_dict()\n",
        "\n",
        "# Загрузка состояния модели в model\n",
        "model.load_state_dict(best_model_state_dict)\n",
        "\n",
        "\n",
        "# Установка модели в режим оценки\n",
        "model.eval()\n",
        "\n",
        "# Оценка модели на тестовой выборке\n",
        "test_loss = 0.0\n",
        "predictions = []\n",
        "true_labels = []\n",
        "with torch.no_grad():\n",
        "    for images, labels in test_loader:\n",
        "        images, labels = images.to(device), labels.to(device)\n",
        "        outputs = model(images)\n",
        "        loss = criterion(outputs, labels)\n",
        "        test_loss += loss.item() * images.size(0)\n",
        "        _, preds = torch.max(outputs, 1)\n",
        "        predictions.extend(preds.cpu().numpy())\n",
        "        true_labels.extend(labels.cpu().numpy())\n",
        "\n",
        "# Вычисление точности на тестовой выборке\n",
        "accuracy = accuracy_score(true_labels, predictions)\n",
        "print(f'Test Loss: {test_loss / len(test_loader.dataset):.4f}, Test Accuracy: {accuracy * 100:.2f}%')"
      ],
      "metadata": {
        "id": "zka-R7KJh_0_",
        "colab": {
          "base_uri": "https://localhost:8080/"
        },
        "outputId": "272c0e02-4089-4fe2-a29e-811101d11b7d"
      },
      "execution_count": null,
      "outputs": [
        {
          "output_type": "stream",
          "name": "stdout",
          "text": [
            "Test Loss: 0.9330, Test Accuracy: 58.12%\n"
          ]
        }
      ]
    },
    {
      "cell_type": "code",
      "source": [
        "from PIL import Image\n",
        "from torchvision import transforms\n",
        "\n",
        "def load_and_preprocess_image(image_path):\n",
        "    image = Image.open(image_path).convert('RGB')\n",
        "    input_image = transform(image).unsqueeze(0)\n",
        "    return input_image\n",
        "\n",
        "# Предсказание для CNNModel5\n",
        "image_path = 'car.jpg'\n",
        "input_image = load_and_preprocess_image(image_path)\n",
        "output = best_model(input_image)\n",
        "\n",
        "# Преобразование выхода в вероятности и получение предсказанного класса\n",
        "probabilities = nn.Softmax(dim=1)(output)\n",
        "predicted_class = torch.argmax(probabilities, dim=1).item()\n",
        "# Загрузка классов из обучающего набора данных до создания Subset\n",
        "classes = train_dataset.dataset.classes\n",
        "\n",
        "# Использование индексации по классам из classes\n",
        "predicted_class_name = classes[predicted_class]\n",
        "\n",
        "\n",
        "print(f'Predicted Class: {predicted_class, predicted_class_name}')"
      ],
      "metadata": {
        "id": "ShbJ-pAhUIX0",
        "colab": {
          "base_uri": "https://localhost:8080/"
        },
        "outputId": "7d3a19ae-da7a-4e5f-9e29-dd09344c67cf"
      },
      "execution_count": null,
      "outputs": [
        {
          "output_type": "stream",
          "name": "stdout",
          "text": [
            "Predicted Class: (1, 'Mercedes')\n"
          ]
        }
      ]
    },
    {
      "cell_type": "markdown",
      "source": [
        "ВЕРНО!"
      ],
      "metadata": {
        "id": "DbpSDBk14uIR"
      }
    },
    {
      "cell_type": "markdown",
      "source": [
        "### Лучшая сеть №2: на тесте точность превысила 85%, модель не склонна к переобучению (как модель №1), а также ее точность довольно быстро растет  с увеличением эпох (в отличие от сети №3)."
      ],
      "metadata": {
        "id": "q7JWpihd0W4_"
      }
    },
    {
      "cell_type": "code",
      "source": [],
      "metadata": {
        "id": "85rchRvG05E4"
      },
      "execution_count": null,
      "outputs": []
    }
  ],
  "metadata": {
    "kernelspec": {
      "display_name": "Python 3",
      "language": "python",
      "name": "python3"
    },
    "language_info": {
      "codemirror_mode": {
        "name": "ipython",
        "version": 3
      },
      "file_extension": ".py",
      "mimetype": "text/x-python",
      "name": "python",
      "nbconvert_exporter": "python",
      "pygments_lexer": "ipython3",
      "version": "3.7.1"
    },
    "toc": {
      "nav_menu": {},
      "number_sections": true,
      "sideBar": true,
      "skip_h1_title": false,
      "title_cell": "Table of Contents",
      "title_sidebar": "Contents",
      "toc_cell": false,
      "toc_position": {},
      "toc_section_display": true,
      "toc_window_display": false
    },
    "colab": {
      "provenance": []
    }
  },
  "nbformat": 4,
  "nbformat_minor": 0
}